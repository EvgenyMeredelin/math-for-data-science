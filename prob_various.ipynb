{
 "cells": [
  {
   "cell_type": "code",
   "execution_count": 49,
   "metadata": {},
   "outputs": [],
   "source": [
    "from fractions import Fraction\n",
    "from functools import reduce\n",
    "from itertools import product\n",
    "from operator import mul\n",
    "\n",
    "import matplotlib.pyplot as plt\n",
    "import numpy as np\n",
    "import sympy as sym\n",
    "from matplotlib_venn import venn3\n",
    "from sympy import Eq, Rational, Symbol\n",
    "from sympy.stats import Bernoulli, Binomial, density, Die, E, P, variance"
   ]
  },
  {
   "attachments": {},
   "cell_type": "markdown",
   "metadata": {},
   "source": [
    "__Теория вероятностей__ - математическая наука, изучающая закономерности случайных явлений. Под случайными явлениями понимаются явления с неопределенным исходом, происходящие при неоднократном воспроизведении определенного комплекса условий."
   ]
  },
  {
   "attachments": {},
   "cell_type": "markdown",
   "metadata": {},
   "source": [
    "__Математическая статистика__ - раздел математики, изучающий математические методы сбора, систематизации, обработки и интерпретации результатов наблюдений с целью выявления статистических закономерностей.\n",
    "<br>Математическая статистика опирается на теорию вероятностей. Если теория вероятностей изучает закономерности случайных явлений на основе абстрактного описания действительности (теоретической вероятностной модели), то математическая статистика оперирует непосредственно результатами наблюдений над случайным явлением, представляющими выборку из некоторой конечной или гипотетической бесконечной генеральной совокупности."
   ]
  },
  {
   "attachments": {},
   "cell_type": "markdown",
   "metadata": {},
   "source": [
    "***\n",
    "### __Классификация событий__"
   ]
  },
  {
   "attachments": {},
   "cell_type": "markdown",
   "metadata": {},
   "source": [
    "__Случайным событием__ (возможным событием или просто событием) называется любой факт, который в результате испытания может произойти или не произойти.\n",
    "<br>Под испытанием (опытом, экспериментом) в этом определении понимается выполнение определенного комплекса условий, в которых наблюдается то или иное явление, фиксируется тот или иной результат."
   ]
  },
  {
   "attachments": {},
   "cell_type": "markdown",
   "metadata": {},
   "source": [
    "События называются __несовместными__ (несовместимыми), если наступление одного из них исключает наступление любого другого. В противном случае события называются __совместными__ (совместимыми)."
   ]
  },
  {
   "attachments": {},
   "cell_type": "markdown",
   "metadata": {},
   "source": [
    "Событие называется __достоверным__ (обозначаем буквой $\\Omega$), если в результате испытания оно обязательно должно произойти.\n",
    "<br>Событие называется __невозможным__ (обозначаем символом $\\varnothing$), если в\n",
    "результате испытания оно вообще не может произойти."
   ]
  },
  {
   "attachments": {},
   "cell_type": "markdown",
   "metadata": {},
   "source": [
    "События называются __равновозможными__, если в результате испытания по условиям симметрии ни одно из этих событий не является объективно более возможным.\n",
    "\n",
    "__Пример__. Бросается правильная игральная кость с $20$ гранями. Найти вероятность события число выпавших очков кратно $3$."
   ]
  },
  {
   "cell_type": "code",
   "execution_count": 2,
   "metadata": {},
   "outputs": [
    {
     "data": {
      "text/plain": [
       "0.3"
      ]
     },
     "execution_count": 2,
     "metadata": {},
     "output_type": "execute_result"
    }
   ],
   "source": [
    "sum(1 for x in range(1, 21) if not x % 3) / 20"
   ]
  },
  {
   "attachments": {},
   "cell_type": "markdown",
   "metadata": {},
   "source": [
    "__Пример__. Бросается правильная игральная кость с $6$ гранями два раза подряд. Найти вероятность события сумма результатов бросков не меньше $7$."
   ]
  },
  {
   "cell_type": "code",
   "execution_count": 3,
   "metadata": {},
   "outputs": [
    {
     "data": {
      "text/plain": [
       "array([ 2,  3,  4,  5,  6,  7,  3,  4,  5,  6,  7,  8,  4,  5,  6,  7,  8,\n",
       "        9,  5,  6,  7,  8,  9, 10,  6,  7,  8,  9, 10, 11,  7,  8,  9, 10,\n",
       "       11, 12])"
      ]
     },
     "execution_count": 3,
     "metadata": {},
     "output_type": "execute_result"
    }
   ],
   "source": [
    "omega = np.array([i + j for i in range(1, 7) for j in range(1, 7)])\n",
    "omega"
   ]
  },
  {
   "cell_type": "code",
   "execution_count": 4,
   "metadata": {},
   "outputs": [
    {
     "data": {
      "text/plain": [
       "0.5833333333333334"
      ]
     },
     "execution_count": 4,
     "metadata": {},
     "output_type": "execute_result"
    }
   ],
   "source": [
    "(omega >= 7).sum() / len(omega)"
   ]
  },
  {
   "attachments": {},
   "cell_type": "markdown",
   "metadata": {},
   "source": [
    "Несколько событий называются __единственно возможными__, если в результате испытания обязательно должно произойти хотя бы одно из них. Например, события, состоящие в том, что в семье из двух детей: $A$ - «два мальчика», $B$ - «один мальчик, одна девочка», $C$ - «две девочки» - являются единственно возможными."
   ]
  },
  {
   "attachments": {},
   "cell_type": "markdown",
   "metadata": {},
   "source": [
    "Несколько событий образуют __полную группу__ (полную систему), если они являются единственно возможными и несовместными исходами испытания. Это означает, что _в результате испытания обязательно должно произойти одно и только одно из этих событий_. $A,B,C$ выше образуют полную группу. "
   ]
  },
  {
   "attachments": {},
   "cell_type": "markdown",
   "metadata": {},
   "source": [
    "***\n",
    "### __Классическое определение вероятности__"
   ]
  },
  {
   "attachments": {},
   "cell_type": "markdown",
   "metadata": {},
   "source": [
    "Численная мера степени объективной возможности наступления события называется __вероятностью события__."
   ]
  },
  {
   "attachments": {},
   "cell_type": "markdown",
   "metadata": {},
   "source": [
    "Пусть исходы некоторого испытания образуют полную группу событий и равновозможны, т.е\n",
    "\n",
    "* единственно возможны, \n",
    "* несовместны и \n",
    "* равновозможны. \n",
    "\n",
    "Такие исходы называются __элементарными исходами__, случаями или шансами."
   ]
  },
  {
   "attachments": {},
   "cell_type": "markdown",
   "metadata": {},
   "source": [
    "Случай называется __благоприятствующим__ (благоприятным) событию $A$, если появление этого случая влечет за собой появление события $A$."
   ]
  },
  {
   "attachments": {},
   "cell_type": "markdown",
   "metadata": {},
   "source": [
    "Согласно __классическому определению__ вероятность события $A$ равна отношению числа случаев, благоприятствующих ему, к общему числу случаев, т.е.\n",
    "\n",
    "$$P(A) = \\frac{m}{n},$$\n",
    "\n",
    "где $P(A)$ - вероятность события $A$; $m$ - число случаев, благоприятствующих событию $A$; $n$ - общее число случаев.\n"
   ]
  },
  {
   "attachments": {},
   "cell_type": "markdown",
   "metadata": {},
   "source": [
    "Классическое определение (классическую формулу) вероятности следует рассматривать не как определение, а как метод вычисления вероятностей для испытаний, сводящихся к схеме случаев."
   ]
  },
  {
   "attachments": {},
   "cell_type": "markdown",
   "metadata": {},
   "source": [
    "__Свойства вероятности события__:\n",
    "\n",
    "* $0 < P(A) < 1$\n",
    "* $P(\\Omega) = 1$\n",
    "* $P(\\varnothing) = 0$"
   ]
  },
  {
   "attachments": {},
   "cell_type": "markdown",
   "metadata": {},
   "source": [
    "__Статистической вероятностью__ события $A$ называется относительная частота (частость) появления этого события в $n$ произведенных испытаниях, т.е.\n",
    "\n",
    "$$\\tilde{P}(A) = \\omega(A) = \\frac{m}{n},$$\n",
    "\n",
    "где $\\tilde{P}(A)$ - статистическая вероятность события $A$; $\\omega(A)$ - относительная частота (частость) события $A$; $m$ - число испытаний, в которых появилось событие $A$; $n$ - общее число испытаний."
   ]
  },
  {
   "attachments": {},
   "cell_type": "markdown",
   "metadata": {},
   "source": [
    "__Геометрической вероятностью__ события $A$ называется отношение меры области (_measure_), благоприятствующей появлению события $A$, к мере всей области, т.е.\n",
    "\n",
    "$$P(A) = \\frac{\\textbf{mes}\\,g}{\\textbf{mes}\\,G},$$"
   ]
  },
  {
   "attachments": {},
   "cell_type": "markdown",
   "metadata": {},
   "source": [
    "Классический пример - __задача о встрече__. Пусть двое, скажем, Петя и Маша, условились встретиться в определенном месте между 10 и 11 часами. Пришедший первым ждет другого в течение 10 минут, и, если так и не дожидается, уходит. Какова вероятность того, что Петя и Маша встретятся, если каждый из них приходит независимо от другого в любое время в течение указанного часа?\n",
    "\n",
    "\n",
    "$\\Omega = [0, 1] \\times [0, 1]$. Пусть Петя пришел в момент времени $x \\in [0, 1]$, а Маша пришла в момент времени $y \\in [0, 1]$. Для того, чтобы они встретились, нужно, чтобы между временем прихода Пети и Маши прошло не более 10 минут (1/6 часа). Это значит, что встрече благоприятствуют те элементарные исходы $(x,y) \\in \\Omega$, для которых\n",
    "\n",
    "$$|x - y| \\leqslant \\frac{1}{6} \\Leftrightarrow -\\frac{1}{6} \\leqslant x - y \\leqslant \\frac{1}{6}$$\n",
    "\n",
    "Интересующая нас область ограничена прямыми $y = x \\pm \\frac{1}{6}$"
   ]
  },
  {
   "attachments": {
    "image.png": {
     "image/png": "[encoded data removed]"
    }
   },
   "cell_type": "markdown",
   "metadata": {},
   "source": [
    "![image.png](attachment:image.png)"
   ]
  },
  {
   "attachments": {},
   "cell_type": "markdown",
   "metadata": {},
   "source": [
    "$$\\lambda(A) = 1 - \\biggl(\\frac{5}{6}\\biggr)^2 = \\frac{11}{36},\\,P(A) = \\frac{\\lambda(A)}{\\lambda(\\Omega)} = \\frac{11}{36}.$$"
   ]
  },
  {
   "cell_type": "code",
   "execution_count": 5,
   "metadata": {},
   "outputs": [],
   "source": [
    "def meetingProba(r):\n",
    "    # r is a time/frame ratio\n",
    "    if r < 0 or r > 1:\n",
    "        raise ValueError('Incorrect ratio')\n",
    "    return 1 - (1 - r)**2"
   ]
  },
  {
   "cell_type": "code",
   "execution_count": 6,
   "metadata": {},
   "outputs": [
    {
     "data": {
      "text/plain": [
       "Fraction(11, 36)"
      ]
     },
     "execution_count": 6,
     "metadata": {},
     "output_type": "execute_result"
    }
   ],
   "source": [
    "Fraction(meetingProba(1/6)).limit_denominator()"
   ]
  },
  {
   "attachments": {},
   "cell_type": "markdown",
   "metadata": {},
   "source": [
    "***\n",
    "### __Действия над событиями__"
   ]
  },
  {
   "attachments": {},
   "cell_type": "markdown",
   "metadata": {},
   "source": [
    "__Суммой__ нескольких событий называется событие, состоящее в наступлении хотя бы одного из данных событий."
   ]
  },
  {
   "attachments": {},
   "cell_type": "markdown",
   "metadata": {},
   "source": [
    "__Произведением__ нескольких событий называется событие, состоящее в совместном наступлении всех этих событий."
   ]
  },
  {
   "attachments": {},
   "cell_type": "markdown",
   "metadata": {},
   "source": [
    "__Разностью__ $(A-B)$ двух событий $A$ и $B$ называется событие, которое состоится, если событие $A$ произойдет, а\n",
    "событие $B$ не произойдет."
   ]
  },
  {
   "attachments": {},
   "cell_type": "markdown",
   "metadata": {},
   "source": [
    "__Задача__. Определить истинность утверждений:\n",
    "\n",
    "$$(A \\cup B) \\setminus C = (A \\setminus C) \\cup (B \\setminus C)\n",
    "\\\\ (A \\cap B) \\cup C = (A \\cap C) \\cup (B \\cap C)\n",
    "\\\\ (A \\cap B) \\setminus C = (A \\setminus C) \\cap B\n",
    "\\\\ (A \\cap B) \\cup C = (A \\cup C) \\cap (B \\cup C)$$"
   ]
  },
  {
   "cell_type": "code",
   "execution_count": 7,
   "metadata": {},
   "outputs": [
    {
     "data": {
      "image/png": "[encoded data removed]",
      "text/plain": [
       "<Figure size 600x600 with 1 Axes>"
      ]
     },
     "metadata": {},
     "output_type": "display_data"
    }
   ],
   "source": [
    "plt.figure(figsize=(6, 6))\n",
    "venn3(subsets=(range(1, 8)), set_labels=('A', 'B', 'C'), alpha=.6)\n",
    "plt.show()"
   ]
  },
  {
   "cell_type": "code",
   "execution_count": 8,
   "metadata": {},
   "outputs": [],
   "source": [
    "A = {1, 3, 7, 5}\n",
    "B = {3, 2, 6, 7}\n",
    "C = {5, 7, 6, 4}"
   ]
  },
  {
   "cell_type": "code",
   "execution_count": 9,
   "metadata": {},
   "outputs": [
    {
     "data": {
      "text/plain": [
       "True"
      ]
     },
     "execution_count": 9,
     "metadata": {},
     "output_type": "execute_result"
    }
   ],
   "source": [
    "(A | B) - C == (A - C) | (B - C)"
   ]
  },
  {
   "cell_type": "code",
   "execution_count": 10,
   "metadata": {},
   "outputs": [
    {
     "data": {
      "text/plain": [
       "False"
      ]
     },
     "execution_count": 10,
     "metadata": {},
     "output_type": "execute_result"
    }
   ],
   "source": [
    "(A & B) | C == (A & C) | (B & C)"
   ]
  },
  {
   "cell_type": "code",
   "execution_count": 11,
   "metadata": {},
   "outputs": [
    {
     "data": {
      "text/plain": [
       "True"
      ]
     },
     "execution_count": 11,
     "metadata": {},
     "output_type": "execute_result"
    }
   ],
   "source": [
    "(A & B) - C == (A - C) & B"
   ]
  },
  {
   "cell_type": "code",
   "execution_count": 12,
   "metadata": {},
   "outputs": [
    {
     "data": {
      "text/plain": [
       "True"
      ]
     },
     "execution_count": 12,
     "metadata": {},
     "output_type": "execute_result"
    }
   ],
   "source": [
    "(A & B) | C == (A | C) & (B | C)"
   ]
  },
  {
   "attachments": {},
   "cell_type": "markdown",
   "metadata": {},
   "source": [
    "__Законы де Моргана__:\n",
    "$$\\overline{A+B+...+K} = \\overline{A} \\cdot \\overline{B} \\cdot ... \\cdot \\overline{K}$$\n",
    "\n",
    "$$\\overline{AB...K} = \\overline{A} + \\overline{B} + ... + \\overline{K}$$"
   ]
  },
  {
   "attachments": {},
   "cell_type": "markdown",
   "metadata": {},
   "source": [
    "__Теорема сложения вероятностей__. Вероятность суммы конечного числа _несовместных_ событий равна сумме вероятностей этих событий:\n",
    "$$P(A+B+...+K) = P(A) + P(B) +...+ P(K)$$"
   ]
  },
  {
   "attachments": {},
   "cell_type": "markdown",
   "metadata": {},
   "source": [
    "***\n",
    "### __Условная вероятность события__"
   ]
  },
  {
   "attachments": {},
   "cell_type": "markdown",
   "metadata": {},
   "source": [
    "Вероятность $P(B)$ как мера степени объективной возможности наступления события $B$ имеет смысл при выполнении определенного комплекса условий. При изменении условий вероятность события $B$ может измениться. Так, если к комплексу условий, при котором изучалась вероятность $P(B)$, добавить новое условие $A$, то полученная вероятность события $B$, найденная при условии, что событие $A$ произошло, называется __условной вероятностью__ события $B$ и обозначается $P(B|A)$. "
   ]
  },
  {
   "attachments": {},
   "cell_type": "markdown",
   "metadata": {},
   "source": [
    "$$P(B|A) = \\frac{P(AB)}{P(A)}$$\n",
    "\n",
    "$$P(AB) = P(A) \\cdot P(B|A) = P(B) \\cdot P(A|B)$$"
   ]
  },
  {
   "attachments": {},
   "cell_type": "markdown",
   "metadata": {},
   "source": [
    "__Теорема (правило) умножения вероятностей__. Вероятность произведения двух событий равна произведению вероятности одного из них на условную вероятность другого, найденную в предположении, что первое событие произошло."
   ]
  },
  {
   "attachments": {},
   "cell_type": "markdown",
   "metadata": {},
   "source": [
    "Два события называются __независимыми__, если появление одного из них не меняет вероятности наступления другого."
   ]
  },
  {
   "attachments": {},
   "cell_type": "markdown",
   "metadata": {},
   "source": [
    "Для независимых событий теорема (правило) умножения вероятностей для двух событий примет вид:\n",
    "\n",
    "$$P(AB) = P(A)\\,P(B)$$"
   ]
  },
  {
   "attachments": {},
   "cell_type": "markdown",
   "metadata": {},
   "source": [
    "Если событие независимо от самого себя, то $P(A)\\,P(A) = 0$ или $1$, т.е. $A$ либо невозможное, либо достоверное."
   ]
  },
  {
   "attachments": {},
   "cell_type": "markdown",
   "metadata": {},
   "source": [
    "Вероятность суммы двух _совместных_ событий равна сумме вероятностей этих событий без вероятности их произведения, т.е.\n",
    "$$P(A+B) = P(A) + P(B) - P(AB)$$"
   ]
  },
  {
   "attachments": {},
   "cell_type": "markdown",
   "metadata": {},
   "source": [
    "Вероятность суммы нескольких _совместных_ событий $A,B,...,K$ равна разности между единицей и вероятностью произведения противоположных событий $\\overline{A},\\overline{B},...,\\overline{K}$:\n",
    "\n",
    "$$P(A+B+...+K) = 1 - P(\\overline{A} \\cdot \\overline{B} \\cdot ... \\cdot \\overline{K})$$"
   ]
  },
  {
   "attachments": {},
   "cell_type": "markdown",
   "metadata": {},
   "source": [
    "Если $A,B,...,K$ - _независимые_:\n",
    "\n",
    "$$P(A+B+...+K) = 1 - P(\\overline{A}) \\cdot P(\\overline{B}) \\cdot ... \\cdot P(\\overline{K})$$"
   ]
  },
  {
   "attachments": {},
   "cell_type": "markdown",
   "metadata": {},
   "source": [
    "***\n",
    "### __Формула полной вероятности. Формула Байеса__"
   ]
  },
  {
   "attachments": {},
   "cell_type": "markdown",
   "metadata": {},
   "source": [
    "Если событие $F$ может произойти только при условии появления одного из событий (гипотез) $A_1,A_2,...,A_n$, образующих полную группу, то вероятность события $F$ равна сумме произведений вероятностей каждого из этих событий (гипотез) на соответствующие условные вероятности события $F$:\n",
    "\n",
    "$$P(F) = \\sum_{i=1}^{n}\\,P(A_i)\\,P(F|A_i)$$"
   ]
  },
  {
   "attachments": {},
   "cell_type": "markdown",
   "metadata": {},
   "source": [
    "Следствием теоремы умножения и формулы полной вероятности\n",
    "является __формула Байеса__.\n",
    "<br>Она применяется, когда событие $F$, которое может появиться только с одной из гипотез $A_1,A_2,...,A_n$, образующих полную группу событий, __произошло__ и необходимо произвести количественную __переоценку__ _априорных_ вероятностей этих гипотез $P(A_1),P(A_2),...,P(A_n)$, известных до испытания, т.е. надо найти\n",
    "_апостериорные_ (получаемые после проведения испытания) условные вероятности гипотез $P(A_1|F),P(A_2|F),...,P(A_n|F)$."
   ]
  },
  {
   "attachments": {},
   "cell_type": "markdown",
   "metadata": {},
   "source": [
    "По теореме умножения вероятностей\n",
    "\n",
    "$$P(FA_i) = P(F)\\,P(A_i|F) = P(A_i)\\,P(F|A_i)$$\n",
    "\n",
    "$$P(A_i|F) = \\frac{P(A_i)\\,P(F|A_i)}{P(F)}$$"
   ]
  },
  {
   "attachments": {},
   "cell_type": "markdown",
   "metadata": {},
   "source": [
    "С учетом формулы полной вероятности\n",
    "\n",
    "$$P(A_i|F) = \\frac{P(A_i)\\,P(F|A_i)}{\\sum_{i=1}^{n}\\,P(A_i)\\,P(F|A_i)}$$"
   ]
  },
  {
   "attachments": {},
   "cell_type": "markdown",
   "metadata": {},
   "source": [
    "Значение формулы Байеса состоит в том, что при появлении события $F$, т.е. по мере поступления данных, получения новой информации, мы можем проверять и корректировать выдвинутые до испытания гипотезы (принятые решения, предполагаемые модели), основываясь на переходе от их априорных вероятностей к апостериорным."
   ]
  },
  {
   "attachments": {},
   "cell_type": "markdown",
   "metadata": {},
   "source": [
    "Если условные вероятности $P(F|A_i)\\,(i=1,2,...,n)$ постоянны, т.е. на вероятность события $F$ все гипотезы влияют одинаково, то согласно формуле Байеса получаем $P(A_i|F) = P(A_i)$, т.е. дополнительная информация о появлении события $F$ не имеет никакой ценности, поскольку не меняет наших представлений об априорных вероятностях гипотез.\n",
    "\n",
    "__Прим__. $P(F|A_i) = \\text{const}$ выносится из-под суммы и сокращается, а сумма вероятностей полной группы гипотез равна единице."
   ]
  },
  {
   "attachments": {},
   "cell_type": "markdown",
   "metadata": {},
   "source": [
    "__Задача__. В торговую фирму поступили телевизоры от трех поставщиков в отношении $1:4:5$. Практика показала, что телевизоры, поступающие от $1$-го, $2$-го и $3$-го поставщиков, не потребуют ремонта в течение гарантийного срока соответственно в $98$, $88$ и $92\\%$ случаев.\n",
    "\n",
    "1. Найти вероятность того, что поступивший в торговую фирму телевизор не потребует ремонта в течение гарантийного срока.\n",
    "2. Проданный телевизор потребовал ремонта в течение гарантийного срока. От какого поставщика вероятнее всего поступил этот телевизор?"
   ]
  },
  {
   "attachments": {},
   "cell_type": "markdown",
   "metadata": {},
   "source": [
    "__Решение__.\n",
    "<br> __Вопрос 1__. Обозначим события:\n",
    "<br>$A_i$ - телевизор поступил в торговую фирму от $i$-го поставщика $(i=1,2,3)$;\n",
    "<br>$F$ - телевизор не потребует ремонта в течение гарантийного срока.\n",
    "\n",
    "$$P(A_1) = \\frac{1}{1+4+5} = 0,1 \\quad P(F|A_1) = 0,98;$$\n",
    "\n",
    "$$P(A_2) = \\frac{4}{1+4+5} = 0,4 \\quad P(F|A_2) = 0,88;$$\n",
    "\n",
    "$$P(A_3) = \\frac{5}{1+4+5} = 0,5 \\quad P(F|A_3) = 0,92.$$"
   ]
  },
  {
   "attachments": {},
   "cell_type": "markdown",
   "metadata": {},
   "source": [
    "По формуле полной вероятности\n",
    "\n",
    "$$P(F) = \\sum_{i=1}^{3} P(A_i)\\,P(F|A_i) = 0,91.$$"
   ]
  },
  {
   "attachments": {},
   "cell_type": "markdown",
   "metadata": {},
   "source": [
    "__Вопрос 2__. Событие $\\overline{F}$ - телевизор потребует ремонта в течение гарантийного срока.\n",
    "\n",
    "$$P(\\overline{F}) = 1 - P(F) = 1 - 0,91 = 0,09.$$\n",
    "\n",
    "$$P(\\overline{F}|A_1) = 1 - 0,98 = 0,02;$$\n",
    "\n",
    "$$P(\\overline{F}|A_2) = 1 - 0,88 = 0,12;$$\n",
    "\n",
    "$$P(\\overline{F}|A_3) = 1 - 0,92 = 0,08;$$"
   ]
  },
  {
   "attachments": {},
   "cell_type": "markdown",
   "metadata": {},
   "source": [
    "По формуле Байеса\n",
    "\n",
    "$$\\underbrace{P(A_i|\\overline{F})}_{апостериорная} = \\frac{\\overbrace{P(A_i)}^{априорная}\\,P(\\overline{F}|A_i)}{P(\\overline{F})}$$\n",
    "\n",
    "$$P(A_1|\\overline{F}) = \\frac{0,1 \\cdot 0,02}{0,09} = 0,022$$\n",
    "\n",
    "$$P(A_2|\\overline{F}) = \\frac{0,4 \\cdot 0,12}{0,09} = 0,533$$\n",
    "\n",
    "$$P(A_3|\\overline{F}) = \\frac{0,5 \\cdot 0,08}{0,09} = 0,444$$"
   ]
  },
  {
   "attachments": {},
   "cell_type": "markdown",
   "metadata": {},
   "source": [
    "Таким образом, после наступления события $\\overline{F}$ вероятность гипотезы $A_2$ увеличилась с $P(A_2) = 0,4$ до максимальной $P(A_2|\\overline{F}) = 0,533$, а гипотезы $A_3$ - уменьшилась от максимальной $P(A_3) = 0,5$ до $P(A_3|\\overline{F}) = 0,444$. Если ранее (до наступления события $\\overline{F}$) наиболее вероятной была гипотеза $A_3$, то теперь, в свете новой информации (наступления события $\\overline{F}$), наиболее вероятна гипотеза $A_2$ - поступление данного телевизора от $2$-го поставщика."
   ]
  },
  {
   "attachments": {},
   "cell_type": "markdown",
   "metadata": {},
   "source": [
    "__Задача__. Вероятность попадания в мишень первым стрелком $0,4$, вторым - $0,2$. Каждый произвел по одному выстрелу. В мишень попала одна пуля. Определить вероятность того, что мишень поразил первый стрелок."
   ]
  },
  {
   "attachments": {},
   "cell_type": "markdown",
   "metadata": {},
   "source": [
    "$$P_1 = 0,4 \\quad P_2 = 0,2 \\quad P_A^{\\text{prior}} = P_1\\overline{P_2} \\quad P_B^{\\text{prior}} = \\overline{P_1}P_2$$\n",
    "\n",
    "$$P_A^{\\text{prior}} + P_B^{\\text{prior}} = 0,4 \\cdot (1-0,2) + (1-0,4) \\cdot 0,2 = 0,32 + 0,12 = 0,44.$$\n",
    "\n",
    "Пересчет априорной вероятности сценария $A$ в свете того, что поражение мишени - достоверный факт:\n",
    "$$P_A^{\\text{post}} + P_B^{\\text{post}} = P(\\Omega) = 1 \\Rightarrow P_A^{\\text{post}} = \\frac{P_A^{\\text{prior}}}{0,44} = \\frac{0,32}{0,44} = 0,727.$$\n",
    "\n",
    "Другими словами, требуется пересчитать пропорциональный вклад в сумму слагаемого, соответствующего реализации сценария $A$, - при условии, что сумма изменилась с $0,44$ до $1$ - в $\\frac{1}{0,44} \\approx 2,27$ раз."
   ]
  },
  {
   "attachments": {},
   "cell_type": "markdown",
   "metadata": {},
   "source": [
    "***\n",
    "### __Случайная величина и математическое ожидание__"
   ]
  },
  {
   "attachments": {},
   "cell_type": "markdown",
   "metadata": {},
   "source": [
    "__Случайной величиной__ $X$ называется функция, заданная на множестве элементарных исходов (или в пространстве элементарных событий), т.е.\n",
    "\n",
    "$$X = f(\\omega),$$\n",
    "\n",
    "где $\\omega$ - элементарный исход (или элементарное событие, принадлежащее пространству $\\Omega$, т.е. $\\omega \\in \\Omega$)."
   ]
  },
  {
   "attachments": {},
   "cell_type": "markdown",
   "metadata": {},
   "source": [
    "_Как думать про случайные величины в контексте data science?_\n",
    "<br>Представим таблицу: по вертикали UserID, по горизонтали - признаки ${A,B,...,Z}$. На пересечении - значение признака для пользователя. Признаки в данном случае это случайные величины, а их значения - реализации на объектах, конкретных пользователях."
   ]
  },
  {
   "attachments": {},
   "cell_type": "markdown",
   "metadata": {},
   "source": [
    "__Законом распределения__ случайной величины называется всякое соотношение, устанавливающее связь между возможными значениями случайной величины и соответствующими им вероятностями."
   ]
  },
  {
   "attachments": {},
   "cell_type": "markdown",
   "metadata": {},
   "source": [
    "__Математическим ожиданием__ $M(X)$ дискретной случайной величины Х называется сумма произведений всех ее значений на соответствующие им вероятности:\n",
    "\n",
    "$$M(X) = \\sum_{i=1}^{n} x_i p_i.$$"
   ]
  },
  {
   "attachments": {},
   "cell_type": "markdown",
   "metadata": {},
   "source": [
    "Математическое ожидание рассматривают как характеристику положения случайной величины, ее центр распределения.\n",
    "<br>Последний термин связан с __механической интерпретацией математического ожидания__. Если предположить, что каждая материальная точка с абсциссой $x_i$ имеет массу, равную $p_i\\,(i=1,2,...,n)$, а вся единичная масса $\\sum_{i=1}^{n} p_i = 1$ распределена между этими точками, то математическое ожидание представляет собой абсциссу центра масс системы материальных точек."
   ]
  },
  {
   "attachments": {},
   "cell_type": "markdown",
   "metadata": {},
   "source": [
    "__Свойства математического ожидания__:\n",
    "* $M(C) = C$\n",
    "* $M(kX) = kM(X)$\n",
    "* $M(X \\pm Y) = M(X) \\pm M(Y)$\n",
    "* $M(XY) = M(X) \\cdot M(Y)$ \n",
    "<br>(математическое ожидание произведения конечного числа __независимых__ случайных величин равно произведению их математических ожиданий)"
   ]
  },
  {
   "attachments": {},
   "cell_type": "markdown",
   "metadata": {},
   "source": [
    "__Задача__. Случайная величина $X$ - остаток от деления на $3$ того числа, которое выпало на честном шестигранном кубике. Найти $\\text{E}(X)$."
   ]
  },
  {
   "cell_type": "code",
   "execution_count": 13,
   "metadata": {},
   "outputs": [
    {
     "data": {
      "text/plain": [
       "1.0"
      ]
     },
     "execution_count": 13,
     "metadata": {},
     "output_type": "execute_result"
    }
   ],
   "source": [
    "X = np.arange(1, 7) % 3\n",
    "p = np.array([1/6] * 6)\n",
    "X @ p"
   ]
  },
  {
   "attachments": {},
   "cell_type": "markdown",
   "metadata": {},
   "source": [
    "__Задача__. Найти матожидание с.в. - суммы выпавших очков в результате $10$-кратного подбрасывания честного шестигранного кубика."
   ]
  },
  {
   "cell_type": "code",
   "execution_count": 14,
   "metadata": {},
   "outputs": [
    {
     "data": {
      "text/plain": [
       "35.0"
      ]
     },
     "execution_count": 14,
     "metadata": {},
     "output_type": "execute_result"
    }
   ],
   "source": [
    "X = np.arange(1, 7)\n",
    "p = np.array([1/6] * 6)\n",
    "10*X @ p"
   ]
  },
  {
   "cell_type": "code",
   "execution_count": 15,
   "metadata": {},
   "outputs": [
    {
     "data": {
      "text/latex": [
       "$\\displaystyle 35$"
      ],
      "text/plain": [
       "35"
      ]
     },
     "execution_count": 15,
     "metadata": {},
     "output_type": "execute_result"
    }
   ],
   "source": [
    "E(10*Die('D'))"
   ]
  },
  {
   "attachments": {},
   "cell_type": "markdown",
   "metadata": {},
   "source": [
    "Случайные величины $X$ и $Y$ называются __равными__, если $X(\\omega) = Y(\\omega), \\forall \\omega \\in \\Omega$.\n",
    "\n",
    "__Пример__. Дано вероятностное пространство, соответствующее одному броску честной монеты.\n",
    "* Случайная величина $X$ определена так: $X(\\text{орел}) = 1, X(\\text{решка}) = 0;$\n",
    "* Случайная величина $Y$ определена так: $Y(\\text{орел}) = 0, Y(\\text{решка}) = 5.$\n",
    "\n",
    "Верно ли, что $X + \\frac{1}{5}Y = 1$?\n"
   ]
  },
  {
   "cell_type": "code",
   "execution_count": 16,
   "metadata": {},
   "outputs": [
    {
     "data": {
      "text/plain": [
       "True"
      ]
     },
     "execution_count": 16,
     "metadata": {},
     "output_type": "execute_result"
    }
   ],
   "source": [
    "X = np.array([1, 0])\n",
    "Y = np.array([0, 5])\n",
    "(X + Y/5 == 1).all()"
   ]
  },
  {
   "attachments": {},
   "cell_type": "markdown",
   "metadata": {},
   "source": [
    "__Задача__. Пусть $L$ - с.в., равная разности результатов первого и второго броска честного шестигранного кубика. Проверить утверждения:\n",
    "\n",
    "$$P(L = 0,5) = \\frac{1}{9} \\quad P(L = -2) = \\frac{1}{9}$$\n",
    "\n",
    "$$P(L = 0) = \\frac{1}{6} \\quad P(L = 3) = \\frac{5}{36}$$"
   ]
  },
  {
   "cell_type": "code",
   "execution_count": 17,
   "metadata": {},
   "outputs": [],
   "source": [
    "def testStatement(rv, value, proba):\n",
    "    counts = dict(zip(*np.unique(rv, return_counts=True)))\n",
    "    return counts.get(value, False) / len(rv) == proba"
   ]
  },
  {
   "cell_type": "code",
   "execution_count": 18,
   "metadata": {},
   "outputs": [
    {
     "data": {
      "text/plain": [
       "[False, True, True, False]"
      ]
     },
     "execution_count": 18,
     "metadata": {},
     "output_type": "execute_result"
    }
   ],
   "source": [
    "L = [i - j for i in range(1, 7) for j in range(1, 7)]\n",
    "data = (1/2, 1/9), (-2, 1/9), (0, 1/6), (3, 5/36)\n",
    "[testStatement(L, *point) for point in data]"
   ]
  },
  {
   "attachments": {},
   "cell_type": "markdown",
   "metadata": {},
   "source": [
    "__Задача__. С.в. $X$ - число, выпавшее на честном кубике при однократном подбрасывании. С.в. $Y$ - суммарное число решек, выпавших за $3$ подбрасывания честной монеты. С.в. $Z$ - суммарное число орлов, выпавших за эти же $3$ подбрасывания честной монеты. По определению, $p_{(2X)}(12)$ это вероятность того, что с.в. $2X$ примет значение $12$. Проверить утверждения:\n",
    "\n",
    "$$p_X(2) = \\frac{1}{6} \\quad p_Y(3) = \\frac{1}{8}$$\n",
    "\n",
    "$$p_Z(0) = 0 \\quad p_{(2X)}(12) = \\frac{1}{6}$$"
   ]
  },
  {
   "attachments": {},
   "cell_type": "markdown",
   "metadata": {},
   "source": [
    "Проверим каждое утверждение двумя инструментами: __`standard lib + numpy`__ и __`sympy`__."
   ]
  },
  {
   "cell_type": "code",
   "execution_count": 19,
   "metadata": {},
   "outputs": [
    {
     "data": {
      "text/plain": [
       "True"
      ]
     },
     "execution_count": 19,
     "metadata": {},
     "output_type": "execute_result"
    }
   ],
   "source": [
    "testStatement(range(1, 7), 2, 1/6)"
   ]
  },
  {
   "cell_type": "code",
   "execution_count": 20,
   "metadata": {},
   "outputs": [
    {
     "data": {
      "text/plain": [
       "True"
      ]
     },
     "execution_count": 20,
     "metadata": {},
     "output_type": "execute_result"
    }
   ],
   "source": [
    "testStatement(2 * np.arange(1, 7), 12, 1/6)"
   ]
  },
  {
   "cell_type": "code",
   "execution_count": 21,
   "metadata": {},
   "outputs": [],
   "source": [
    "X = Die('X')  # честный шестигранный кубик"
   ]
  },
  {
   "cell_type": "code",
   "execution_count": 22,
   "metadata": {},
   "outputs": [
    {
     "data": {
      "text/plain": [
       "True"
      ]
     },
     "execution_count": 22,
     "metadata": {},
     "output_type": "execute_result"
    }
   ],
   "source": [
    "P(Eq(X, 6)) == P(Eq(2*X, 12)) == Rational(1, 6)"
   ]
  },
  {
   "cell_type": "code",
   "execution_count": 23,
   "metadata": {},
   "outputs": [
    {
     "data": {
      "text/plain": [
       "True"
      ]
     },
     "execution_count": 23,
     "metadata": {},
     "output_type": "execute_result"
    }
   ],
   "source": [
    "density(X).dict[6] == density(2*X).dict[12] == Rational(1, 6)"
   ]
  },
  {
   "cell_type": "code",
   "execution_count": 24,
   "metadata": {},
   "outputs": [
    {
     "data": {
      "text/plain": [
       "[0, 1, 1, 2, 1, 2, 2, 3]"
      ]
     },
     "execution_count": 24,
     "metadata": {},
     "output_type": "execute_result"
    }
   ],
   "source": [
    "omega = product(range(2), repeat=3)\n",
    "coin_rv = [sum(seq) for seq in omega]\n",
    "coin_rv"
   ]
  },
  {
   "cell_type": "code",
   "execution_count": 25,
   "metadata": {},
   "outputs": [
    {
     "data": {
      "text/plain": [
       "True"
      ]
     },
     "execution_count": 25,
     "metadata": {},
     "output_type": "execute_result"
    }
   ],
   "source": [
    "testStatement(coin_rv, 3, 1/8)"
   ]
  },
  {
   "cell_type": "code",
   "execution_count": 26,
   "metadata": {},
   "outputs": [
    {
     "data": {
      "text/plain": [
       "False"
      ]
     },
     "execution_count": 26,
     "metadata": {},
     "output_type": "execute_result"
    }
   ],
   "source": [
    "testStatement(coin_rv, 0, 0)"
   ]
  },
  {
   "attachments": {},
   "cell_type": "markdown",
   "metadata": {},
   "source": [
    "В __`sympy.stats`__ есть готовый класс монеты __`Coin`__, но многократное подбрасывание удобнее моделировать биномиальным распределением:"
   ]
  },
  {
   "cell_type": "code",
   "execution_count": 27,
   "metadata": {},
   "outputs": [
    {
     "data": {
      "text/plain": [
       "{3*Решка: 1/8, Орел + 2*Решка: 3/8, 2*Орел + Решка: 3/8, 3*Орел: 1/8}"
      ]
     },
     "execution_count": 27,
     "metadata": {},
     "output_type": "execute_result"
    }
   ],
   "source": [
    "n = Symbol('n', positive=True, integer=True)\n",
    "C = Binomial('C', n, Rational(1, 2), 'Орел', 'Решка')\n",
    "dens = density(C).dict.subs(n, 3)\n",
    "dens.doit()"
   ]
  },
  {
   "cell_type": "code",
   "execution_count": 28,
   "metadata": {},
   "outputs": [
    {
     "data": {
      "text/plain": [
       "{3: 1/8, 2: 3/8, 1: 3/8, 0: 1/8}"
      ]
     },
     "execution_count": 28,
     "metadata": {},
     "output_type": "execute_result"
    }
   ],
   "source": [
    "dens = dens.subs({'Орел': 0, 'Решка': 1}).doit()\n",
    "dens"
   ]
  },
  {
   "attachments": {},
   "cell_type": "markdown",
   "metadata": {},
   "source": [
    "Тот же результат можно получить, если при инициализации __`C`__ вместо строковых меток __`Орел`__ и __`Решка`__ сразу прописать числа."
   ]
  },
  {
   "cell_type": "code",
   "execution_count": 29,
   "metadata": {},
   "outputs": [
    {
     "data": {
      "text/plain": [
       "True"
      ]
     },
     "execution_count": 29,
     "metadata": {},
     "output_type": "execute_result"
    }
   ],
   "source": [
    "dens[3] == Rational(1, 8)"
   ]
  },
  {
   "cell_type": "code",
   "execution_count": 30,
   "metadata": {},
   "outputs": [
    {
     "data": {
      "text/plain": [
       "False"
      ]
     },
     "execution_count": 30,
     "metadata": {},
     "output_type": "execute_result"
    }
   ],
   "source": [
    "dens[0] == 0"
   ]
  },
  {
   "attachments": {},
   "cell_type": "markdown",
   "metadata": {},
   "source": [
    "__Задача__. Проверить новые утверждения для с.в. $X,Y,Z$ из предыдущей задачи. "
   ]
  },
  {
   "cell_type": "code",
   "execution_count": 31,
   "metadata": {},
   "outputs": [
    {
     "data": {
      "text/plain": [
       "True"
      ]
     },
     "execution_count": 31,
     "metadata": {},
     "output_type": "execute_result"
    }
   ],
   "source": [
    "rv = [x - y for x, y in product(range(1, 7), coin_rv)]\n",
    "testStatement(rv, 0, 7/48)"
   ]
  },
  {
   "cell_type": "code",
   "execution_count": 32,
   "metadata": {},
   "outputs": [
    {
     "data": {
      "text/plain": [
       "True"
      ]
     },
     "execution_count": 32,
     "metadata": {},
     "output_type": "execute_result"
    }
   ],
   "source": [
    "Y = np.array(coin_rv)\n",
    "Z = 3 - Y  # complimentary\n",
    "testStatement(Y - Z, 1, 3/8)"
   ]
  },
  {
   "attachments": {},
   "cell_type": "markdown",
   "metadata": {},
   "source": [
    "***\n",
    "### __Независимость случайных величин__"
   ]
  },
  {
   "attachments": {},
   "cell_type": "markdown",
   "metadata": {},
   "source": [
    "Случайные величины $X$ и $Y$ независимы, если\n",
    "\n",
    "$$\\forall a,b \\in \\R : P(X = a \\cap Y = b) = P(X = a) \\cdot P(Y = b).$$"
   ]
  },
  {
   "attachments": {},
   "cell_type": "markdown",
   "metadata": {},
   "source": [
    "Две случайные величины называются __независимыми__, если закон распределения одной из них не меняется от того, какие возможные значения приняла другая величина."
   ]
  },
  {
   "attachments": {},
   "cell_type": "markdown",
   "metadata": {},
   "source": [
    "__Задача__. Даны $5$ совместно независимых случайных величин $X_1,...,X_5$, имеющих одинаковое распределение\n",
    "\n",
    "$$P(X_i = 0) = 0,25 \\quad P(X_i = 1) = 0,75$$\n",
    "\n",
    "Найти распределение с.в. $X_1 \\cdot ... \\cdot X_5$."
   ]
  },
  {
   "attachments": {},
   "cell_type": "markdown",
   "metadata": {},
   "source": [
    "__Способ 1__. Словарь __`d`__  ниже задает распределение числа успехов в $n$ испытаниях по схеме Бернулли. Успех в данном случае кодирует единица (значение по умолчанию в конструкторе класса __`sympy.stats.Binomial`__):"
   ]
  },
  {
   "cell_type": "code",
   "execution_count": 33,
   "metadata": {},
   "outputs": [
    {
     "data": {
      "text/plain": [
       "{0: 0.000976562500000000,\n",
       " 1: 0.0146484375000000,\n",
       " 2: 0.0878906250000000,\n",
       " 3: 0.263671875000000,\n",
       " 4: 0.395507812500000,\n",
       " 5: 0.237304687500000}"
      ]
     },
     "execution_count": 33,
     "metadata": {},
     "output_type": "execute_result"
    }
   ],
   "source": [
    "n, p = 5, .75\n",
    "X = Binomial('X', n, p)\n",
    "d = density(X).dict\n",
    "d"
   ]
  },
  {
   "attachments": {},
   "cell_type": "markdown",
   "metadata": {},
   "source": [
    "Вероятность того, что во всех $5$ испытаниях выпадет единица:"
   ]
  },
  {
   "cell_type": "code",
   "execution_count": 34,
   "metadata": {},
   "outputs": [
    {
     "data": {
      "text/latex": [
       "$\\displaystyle 0.2373046875$"
      ],
      "text/plain": [
       "0.237304687500000"
      ]
     },
     "execution_count": 34,
     "metadata": {},
     "output_type": "execute_result"
    }
   ],
   "source": [
    "d[5]"
   ]
  },
  {
   "attachments": {},
   "cell_type": "markdown",
   "metadata": {},
   "source": [
    "Во всех остальных случаях произведение обнулится из-за наличия в нем хотя бы одного $0$. Вероятность обнуления:"
   ]
  },
  {
   "cell_type": "code",
   "execution_count": 35,
   "metadata": {},
   "outputs": [
    {
     "data": {
      "text/latex": [
       "$\\displaystyle 0.7626953125$"
      ],
      "text/plain": [
       "0.762695312500000"
      ]
     },
     "execution_count": 35,
     "metadata": {},
     "output_type": "execute_result"
    }
   ],
   "source": [
    "1 - d[5]"
   ]
  },
  {
   "attachments": {},
   "cell_type": "markdown",
   "metadata": {},
   "source": [
    "__Способ 2__. Соберем распределение из произведения пяти \"бернуллей\" и посмотрим на его функцию вероятности (pmf, probability mass function):"
   ]
  },
  {
   "cell_type": "code",
   "execution_count": 36,
   "metadata": {},
   "outputs": [
    {
     "data": {
      "text/plain": [
       "{0: 0.762695312500000, 1: 0.237304687500000}"
      ]
     },
     "execution_count": 36,
     "metadata": {},
     "output_type": "execute_result"
    }
   ],
   "source": [
    "Xs = [Bernoulli(f'X{i}', p) for i in range(n)]\n",
    "density(reduce(mul, Xs))"
   ]
  },
  {
   "attachments": {},
   "cell_type": "markdown",
   "metadata": {},
   "source": [
    "__Способ 3__. Запрограммируем однорукого бандита из $5$ барабанов на $1$ ноль и $3$ единицы каждый, повторяя заданное условием соотношение $q:p=1:3$, и посмотрим, в какой доле случаев произведение чисел выпавшей комбинации будет единицей (обратится в ноль):"
   ]
  },
  {
   "cell_type": "code",
   "execution_count": 37,
   "metadata": {},
   "outputs": [],
   "source": [
    "omega = [reduce(mul, seq) for seq in product([1]*3 + [0], repeat=5)]\n",
    "values, counts = np.unique(omega, return_counts=True)"
   ]
  },
  {
   "cell_type": "code",
   "execution_count": 38,
   "metadata": {},
   "outputs": [
    {
     "data": {
      "text/plain": [
       "array([0, 1])"
      ]
     },
     "execution_count": 38,
     "metadata": {},
     "output_type": "execute_result"
    }
   ],
   "source": [
    "values"
   ]
  },
  {
   "cell_type": "code",
   "execution_count": 39,
   "metadata": {},
   "outputs": [
    {
     "data": {
      "text/plain": [
       "array([781, 243], dtype=int64)"
      ]
     },
     "execution_count": 39,
     "metadata": {},
     "output_type": "execute_result"
    }
   ],
   "source": [
    "counts"
   ]
  },
  {
   "cell_type": "code",
   "execution_count": 40,
   "metadata": {},
   "outputs": [
    {
     "data": {
      "text/plain": [
       "array([0.76269531, 0.23730469])"
      ]
     },
     "execution_count": 40,
     "metadata": {},
     "output_type": "execute_result"
    }
   ],
   "source": [
    "counts / counts.sum()"
   ]
  },
  {
   "attachments": {},
   "cell_type": "markdown",
   "metadata": {},
   "source": [
    "***\n",
    "### __Дисперсия дискретной случайной величины__"
   ]
  },
  {
   "attachments": {},
   "cell_type": "markdown",
   "metadata": {},
   "source": [
    "Дисперсией $D(X)$ случайной величины $X$ называется математическое ожидание квадрата ее отклонения от математического ожидания:\n",
    "\n",
    "$$D(X) = M[X - M(X)]^2$$\n",
    "\n",
    "$$D(X) = \\sum_{i=1}^{n} (x_i - a)^2 p_i,\\,a = M(X).$$"
   ]
  },
  {
   "attachments": {},
   "cell_type": "markdown",
   "metadata": {},
   "source": [
    "__Свойства дисперсии__:\n",
    "* $D(C) = 0$\n",
    "* $D(kX) = k^2D(X)$\n",
    "* $D(X) = M(X^2) - [M(X)]^2$\n",
    "* $D(X \\pm Y) = D(X) + D(Y)$\n",
    "<br>(внимание на знак в правой части)"
   ]
  },
  {
   "attachments": {},
   "cell_type": "markdown",
   "metadata": {},
   "source": [
    "__Задача__. Найти дисперсию с.в. - суммы выпавших очков в результате двукратного подбрасывания правильной игральной кости."
   ]
  },
  {
   "cell_type": "code",
   "execution_count": 41,
   "metadata": {},
   "outputs": [
    {
     "data": {
      "text/latex": [
       "$\\displaystyle \\frac{35}{6}$"
      ],
      "text/plain": [
       "35/6"
      ]
     },
     "execution_count": 41,
     "metadata": {},
     "output_type": "execute_result"
    }
   ],
   "source": [
    "dice = [Die(f'D{i}') for i in (1, 2)]\n",
    "variance(sum(dice))"
   ]
  },
  {
   "attachments": {},
   "cell_type": "markdown",
   "metadata": {},
   "source": [
    "В силу равновероятности исходов:"
   ]
  },
  {
   "cell_type": "code",
   "execution_count": 42,
   "metadata": {},
   "outputs": [
    {
     "data": {
      "text/plain": [
       "5.833333333333333"
      ]
     },
     "execution_count": 42,
     "metadata": {},
     "output_type": "execute_result"
    }
   ],
   "source": [
    "values = range(1, 7)\n",
    "x = np.array([i + j for i in values for j in values])\n",
    "x.var()"
   ]
  },
  {
   "attachments": {},
   "cell_type": "markdown",
   "metadata": {},
   "source": [
    "Без группировки вероятностей одинаковых исходов:"
   ]
  },
  {
   "cell_type": "code",
   "execution_count": 43,
   "metadata": {},
   "outputs": [
    {
     "data": {
      "text/plain": [
       "5.833333333333333"
      ]
     },
     "execution_count": 43,
     "metadata": {},
     "output_type": "execute_result"
    }
   ],
   "source": [
    "p = np.array([1/36] * 36)\n",
    "(x - x @ p)**2 @ p"
   ]
  },
  {
   "attachments": {},
   "cell_type": "markdown",
   "metadata": {},
   "source": [
    "С группировкой вероятностей одинаковых исходов:"
   ]
  },
  {
   "cell_type": "code",
   "execution_count": 44,
   "metadata": {},
   "outputs": [
    {
     "data": {
      "text/plain": [
       "5.833333333333334"
      ]
     },
     "execution_count": 44,
     "metadata": {},
     "output_type": "execute_result"
    }
   ],
   "source": [
    "x, counts = np.unique([i + j for i in values for j in values], return_counts=True)\n",
    "p = counts / len(values)**2\n",
    "(x - x @ p)**2 @ p"
   ]
  },
  {
   "attachments": {},
   "cell_type": "markdown",
   "metadata": {},
   "source": [
    "__Задача__. Выразить дисперсию с.в., имеющей распределение Бернулли с параметром $p$."
   ]
  },
  {
   "cell_type": "code",
   "execution_count": 45,
   "metadata": {},
   "outputs": [
    {
     "data": {
      "text/latex": [
       "$\\displaystyle p \\left(1 - p\\right)$"
      ],
      "text/plain": [
       "p*(1 - p)"
      ]
     },
     "execution_count": 45,
     "metadata": {},
     "output_type": "execute_result"
    }
   ],
   "source": [
    "p = Symbol('p')\n",
    "x = np.arange(2)\n",
    "proba = np.array([p, 1 - p])\n",
    "\n",
    "((x - x @ proba)**2 @ proba).simplify()"
   ]
  },
  {
   "cell_type": "code",
   "execution_count": 46,
   "metadata": {},
   "outputs": [
    {
     "data": {
      "text/latex": [
       "$\\displaystyle p \\left(1 - p\\right)$"
      ],
      "text/plain": [
       "p*(1 - p)"
      ]
     },
     "execution_count": 46,
     "metadata": {},
     "output_type": "execute_result"
    }
   ],
   "source": [
    "variance(Bernoulli('X', p)).simplify()"
   ]
  },
  {
   "attachments": {},
   "cell_type": "markdown",
   "metadata": {},
   "source": [
    "__Задача__. Вероятности поражения мишени тремя независимо стреляющими стрелками $0,3,\\,0,5,\\,0,9$ соответственно. Найти дисперсию с.в. - количества стрел, поразивших мишень."
   ]
  },
  {
   "cell_type": "code",
   "execution_count": 47,
   "metadata": {},
   "outputs": [
    {
     "data": {
      "text/plain": [
       "0.5499999999999999"
      ]
     },
     "execution_count": 47,
     "metadata": {},
     "output_type": "execute_result"
    }
   ],
   "source": [
    "p = np.array([.3, .5, .9])\n",
    "p @ (1 - p)  # \"бернулли на троих\""
   ]
  },
  {
   "attachments": {},
   "cell_type": "markdown",
   "metadata": {},
   "source": [
    "__Задача__. Пусть случайная величина принимает значение $a \\in [0,10]$ с вероятностью $p$ и значение $b \\in [0,10]$ с вероятностью $1-p$. Рассматриваются всевозможные числа $a,b,p$. Найти максимум стандартного отклонения такой случайной величины."
   ]
  },
  {
   "cell_type": "code",
   "execution_count": 48,
   "metadata": {},
   "outputs": [
    {
     "data": {
      "text/latex": [
       "$\\displaystyle 5$"
      ],
      "text/plain": [
       "5"
      ]
     },
     "execution_count": 48,
     "metadata": {},
     "output_type": "execute_result"
    }
   ],
   "source": [
    "p = Symbol('p')\n",
    "x = np.array([10, 0])\n",
    "proba = lambda p: np.array([p, 1 - p])\n",
    "variance = lambda proba: (x - x @ proba)**2 @ proba\n",
    "\n",
    "root = sym.solve(sym.diff(variance(proba(p)), p))\n",
    "sym.sqrt(variance(proba(*root)))"
   ]
  },
  {
   "attachments": {},
   "cell_type": "markdown",
   "metadata": {},
   "source": [
    "***\n",
    "### __Функция распределения случайной величины__"
   ]
  },
  {
   "attachments": {},
   "cell_type": "markdown",
   "metadata": {},
   "source": [
    "__Функцией распределения__ (cdf, cumulative density function) случайной величины $X$ называется функция $F(x)$, выражающая для каждого $x$ вероятность того, что случайная величина $X$ примет значение, меньшее $x$:\n",
    "\n",
    "$$F(x) = P(X < x)$$"
   ]
  },
  {
   "attachments": {},
   "cell_type": "markdown",
   "metadata": {},
   "source": [
    "Функция распределения любой дискретной случайной величины есть разрывная ступенчатая функция, скачки которой происходят в точках, соответствующих возможным значениям случайной величины и равны вероятностям этих значений."
   ]
  },
  {
   "attachments": {},
   "cell_type": "markdown",
   "metadata": {},
   "source": [
    "__Свойства функции распределения__:\n",
    "* Функция распределения случайной величины есть неотрицательная функция, заключенная между нулем и единицей: $0 \\leqslant F(x) \\leqslant 1$\n",
    "* Функция распределения случайной величины есть неубывающая функция на всей числовой оси.\n",
    "* $F(-\\infty) = \\lim_{x \\to -\\infty} F(x) = 0, \\quad F(+\\infty) = \\lim_{x \\to +\\infty} F(x) = 1$\n",
    "* Вероятность попадания случайной величины в интервал $[x_1,x_2)$ равна приращению ее функции распределения на этом интервале: $P(x_1 \\leqslant X < x_2) = F(x_2) - F(x_1)$."
   ]
  },
  {
   "attachments": {},
   "cell_type": "markdown",
   "metadata": {},
   "source": [
    "***\n",
    "### __Непрерывные случайные величины. Плотность вероятности__"
   ]
  },
  {
   "attachments": {},
   "cell_type": "markdown",
   "metadata": {},
   "source": [
    "Вероятность любого отдельно взятого значения непрерывной случайной величины равна нулю. Представление о событии, имеющем отличную от нуля вероятность, но складывающемся из событий с нулевой вероятностью, не более парадоксально, чем представление об отрезке, имеющем определенную длину, тогда как ни одна точка отрезка отличной от\n",
    "нуля длиной не обладает. Отрезок состоит из таких точек, но его длина не равна сумме их длин."
   ]
  },
  {
   "attachments": {},
   "cell_type": "markdown",
   "metadata": {},
   "source": [
    "__Плотностью вероятности__ (плотностью распределения или просто плотностью, pdf, probability density function) $\\varphi (x)$ непрерывной случайной величины $X$ называется производная ее функции распределения:\n",
    "\n",
    "$$\\varphi (x) = F'(x)$$"
   ]
  },
  {
   "attachments": {},
   "cell_type": "markdown",
   "metadata": {},
   "source": [
    "Плотность вероятности существует только для непрерывных случайных величин."
   ]
  },
  {
   "attachments": {},
   "cell_type": "markdown",
   "metadata": {},
   "source": [
    "__Свойства плотности вероятности__:\n",
    "* Плотность вероятности - неотрицательная функция: $\\varphi (x) \\geqslant 0$\n",
    "* Вероятность попадания непрерывной случайной величины в интервал $[a,b]$ равна определенному интегралу от ее плотности вероятности в пределах от $a$ до $b$:\n",
    "$P(a \\leqslant X \\leqslant b) = \\int_a^b \\varphi (x)\\,dx$\n",
    "* Функция распределения непрерывной случайной величины может быть выражена через плотность вероятности: $F(x) = \\int_{-\\infty}^x \\varphi (x)\\,dx$\n",
    "* Несобственный интеграл в бесконечных пределах от плотности вероятности непрерывной случайной величины равен единице: $\\int_{-\\infty}^{+\\infty} \\varphi (x)\\,dx = 1$."
   ]
  },
  {
   "attachments": {},
   "cell_type": "markdown",
   "metadata": {},
   "source": [
    "__Математическое ожидание и дисперсия__ непрерывной случайной величины $X$, при условии абсолютной сходимости интеграла:\n",
    "\n",
    "$$a = M(X) = \\int_{-\\infty}^{+\\infty} x\\, \\varphi (x)\\,dx$$\n",
    "\n",
    "$$D(X) = \\int_{-\\infty}^{+\\infty} (x - a)^2 \\varphi (x)\\,dx$$"
   ]
  },
  {
   "attachments": {
    "image.png": {
     "image/png": "[encoded data removed]"
    }
   },
   "cell_type": "markdown",
   "metadata": {},
   "source": [
    "![image.png](attachment:image.png)\n",
    "***"
   ]
  },
  {
   "attachments": {},
   "cell_type": "markdown",
   "metadata": {},
   "source": [
    "Основные типы распределений - см. __`appstat_04.ipynb`__"
   ]
  }
 ],
 "metadata": {
  "kernelspec": {
   "display_name": "Python 3",
   "language": "python",
   "name": "python3"
  },
  "language_info": {
   "codemirror_mode": {
    "name": "ipython",
    "version": 3
   },
   "file_extension": ".py",
   "mimetype": "text/x-python",
   "name": "python",
   "nbconvert_exporter": "python",
   "pygments_lexer": "ipython3",
   "version": "3.11.1"
  },
  "orig_nbformat": 4,
  "vscode": {
   "interpreter": {
    "hash": "f8c96a75684fb026b06b21d33b3de0343e22c021cb4e229f492bb76a8bcf102e"
   }
  }
 },
 "nbformat": 4,
 "nbformat_minor": 2
}
