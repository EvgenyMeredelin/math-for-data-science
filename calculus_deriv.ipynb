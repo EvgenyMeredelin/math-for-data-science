{
 "cells": [
  {
   "cell_type": "code",
   "execution_count": 10,
   "metadata": {},
   "outputs": [],
   "source": [
    "import sympy as sym\n",
    "from sympy.abc import x"
   ]
  },
  {
   "attachments": {},
   "cell_type": "markdown",
   "metadata": {},
   "source": [
    "**Содержание**<a id='toc0_'></a>    \n",
    "- [__Одномерная производная, градиент, матрица Якоби__](#toc1_1_1_)    \n",
    "- [__Короткие примеры кода по темам предел, производная__](#toc1_1_2_)    \n",
    "\n",
    "<!-- vscode-jupyter-toc-config\n",
    "\tnumbering=false\n",
    "\tanchor=true\n",
    "\tflat=false\n",
    "\tminLevel=1\n",
    "\tmaxLevel=6\n",
    "\t/vscode-jupyter-toc-config -->\n",
    "<!-- THIS CELL WILL BE REPLACED ON TOC UPDATE. DO NOT WRITE YOUR TEXT IN THIS CELL -->"
   ]
  },
  {
   "attachments": {},
   "cell_type": "markdown",
   "metadata": {},
   "source": [
    "***\n",
    "### <a id='toc1_1_1_'></a>[__Одномерная производная, градиент, матрица Якоби__](#toc0_)"
   ]
  },
  {
   "attachments": {},
   "cell_type": "markdown",
   "metadata": {},
   "source": [
    "Производная позволяет построить локальное приближение функции линейной функцией - касательной. Для дифференцируемой в точке $x_0$ функции $f: \\R \\rightarrow \\R$ верно, что в малой окрестности точки $x_0$:\n",
    "$$f(x) \\approx f(x_0) + f'(x_0)(x - x_0) = f(x_0) + f'(x_0) \\Delta x$$"
   ]
  },
  {
   "attachments": {},
   "cell_type": "markdown",
   "metadata": {},
   "source": [
    "Для многомерной функции линейное приближение в точке — касательная плоскость. Построить касательную плоскость позволяет __градиент__ — вектор частных производных по всем координатам. В малой окрестности точки $a \\in \\R^n$ для дифференцируемой $f: \\R^n \\rightarrow \\R$:\n",
    "\n",
    "$$f(x) \\approx f(a) + f'_{x_1}(a) \\Delta x_1 +...+ f'_{x_n}(a) \\Delta x_n, \\; a=(a_1,...,a_n)$$\n",
    "\n",
    "$$f(x) \\approx f(a) + (f'_{x_1}(a),...,f'_{x_n}(a)) \\begin{pmatrix} \\Delta x_1 \\\\ \\vdots \\\\ \\Delta x_n \\end{pmatrix} = f(a) + \\nabla f(a)^T \\begin{pmatrix} \\Delta x_1 \\\\ \\vdots \\\\ \\Delta x_n \\end{pmatrix}$$"
   ]
  },
  {
   "attachments": {},
   "cell_type": "markdown",
   "metadata": {},
   "source": [
    "Производную функции $f: \\R^n \\rightarrow \\R^m$ можно представлять в виде набора функций $f_1,...,f_m$ таких, что $f(x) = (y_1,...,y_m) = (f_1(x),...,f_m(x))$. Каждая из функций $f_1(x),...,f_m(x)$ отображает вектор из $\\R^n$ в число из $\\R$. Для такой функции $f$ аналогом производной будет __матрица Якоби__:\n",
    "\n",
    "$$\\Large J_x(y) = \\begin{pmatrix} \\frac{\\partial y_1}{\\partial x_1} & ... & \\frac{\\partial y_1}{\\partial x_n} \\\\ ... & ... & ... \\\\ \\frac{\\partial y_m}{\\partial x_1} & ... & \\frac{\\partial y_m}{\\partial x_n} \\end{pmatrix}$$"
   ]
  },
  {
   "attachments": {},
   "cell_type": "markdown",
   "metadata": {},
   "source": [
    "Эквивалентно можно сказать, что матрица Якоби представляет собой записанные по строкам градиенты $\\nabla_x f_1,...,\\nabla_x f_m$."
   ]
  },
  {
   "attachments": {},
   "cell_type": "markdown",
   "metadata": {},
   "source": [
    "Линейное приближение $f$ в малой окрестности точки $a \\in \\R^n$:\n",
    "\n",
    "$$f(x) \\approx f(a) + J_x(y) \\begin{pmatrix} \\Delta x_1 \\\\ \\vdots \\\\ \\Delta x_n \\end{pmatrix} = f(a) + \\begin{pmatrix} \\frac{\\partial y_1}{\\partial x_1} & ... & \\frac{\\partial y_1}{\\partial x_n} \\\\ ... & ... & ... \\\\ \\frac{\\partial y_m}{\\partial x_1} & ... & \\frac{\\partial y_m}{\\partial x_n} \\end{pmatrix} \\begin{pmatrix} \\Delta x_1 \\\\ \\vdots \\\\ \\Delta x_n \\end{pmatrix}$$\n",
    "\n",
    "Поскольку матрица Якоби имеет размеры $m \\times n$, умножение корректно и даст в результате вектор длины $m$."
   ]
  },
  {
   "attachments": {},
   "cell_type": "markdown",
   "metadata": {},
   "source": [
    "***\n",
    "### <a id='toc1_1_2_'></a>[__Короткие примеры кода по темам предел, производная__](#toc0_)"
   ]
  },
  {
   "attachments": {},
   "cell_type": "markdown",
   "metadata": {},
   "source": [
    "__Пример__. Найти предел $\\lim_{x \\to 4} \\frac{x^2 - x - 12}{x - 4}$, если он существует."
   ]
  },
  {
   "cell_type": "code",
   "execution_count": 11,
   "metadata": {},
   "outputs": [
    {
     "data": {
      "text/latex": [
       "$\\displaystyle \\left(x - 4\\right) \\left(x + 3\\right)$"
      ],
      "text/plain": [
       "(x - 4)*(x + 3)"
      ]
     },
     "execution_count": 11,
     "metadata": {},
     "output_type": "execute_result"
    }
   ],
   "source": [
    "sym.factor(x**2 - x - 12)"
   ]
  },
  {
   "attachments": {},
   "cell_type": "markdown",
   "metadata": {},
   "source": [
    "$$\\lim_{x \\to 4} \\frac{x^2 - x - 12}{x - 4} = \\lim_{x \\to 4} \\frac{(x - 4)(x + 3)}{(x - 4)} = \\lim_{x \\to 4} (x + 3) = 7$$"
   ]
  },
  {
   "cell_type": "code",
   "execution_count": 12,
   "metadata": {},
   "outputs": [
    {
     "data": {
      "text/latex": [
       "$\\displaystyle 7$"
      ],
      "text/plain": [
       "7"
      ]
     },
     "execution_count": 12,
     "metadata": {},
     "output_type": "execute_result"
    }
   ],
   "source": [
    "sym.limit((x**2 - x - 12) / (x - 4), x, 4)"
   ]
  },
  {
   "attachments": {},
   "cell_type": "markdown",
   "metadata": {},
   "source": [
    "__Пример__. Производная функции одной переменной в общем виде или в заданной точке."
   ]
  },
  {
   "cell_type": "code",
   "execution_count": 13,
   "metadata": {},
   "outputs": [],
   "source": [
    "def derivHandmade(f, *, n=1, x0=None):\n",
    "    if callable(f):\n",
    "        f = f(x)\n",
    "    deriv = sym.diff(f, x, n)\n",
    "    if x0 is not None:\n",
    "        return sym.lambdify(x, deriv)(x0)\n",
    "    return deriv"
   ]
  },
  {
   "cell_type": "code",
   "execution_count": 14,
   "metadata": {},
   "outputs": [
    {
     "data": {
      "text/latex": [
       "$\\displaystyle 10 x - 1$"
      ],
      "text/plain": [
       "10*x - 1"
      ]
     },
     "execution_count": 14,
     "metadata": {},
     "output_type": "execute_result"
    }
   ],
   "source": [
    "f = 5*x**2 - x + 3\n",
    "derivHandmade(f)"
   ]
  },
  {
   "cell_type": "code",
   "execution_count": 15,
   "metadata": {},
   "outputs": [
    {
     "data": {
      "text/plain": [
       "9"
      ]
     },
     "execution_count": 15,
     "metadata": {},
     "output_type": "execute_result"
    }
   ],
   "source": [
    "derivHandmade(f, x0=1)"
   ]
  },
  {
   "cell_type": "code",
   "execution_count": 16,
   "metadata": {},
   "outputs": [
    {
     "data": {
      "text/plain": [
       "9"
      ]
     },
     "execution_count": 16,
     "metadata": {},
     "output_type": "execute_result"
    }
   ],
   "source": [
    "derivHandmade(lambda x: 5*x**2 - x + 3, x0=1)"
   ]
  },
  {
   "attachments": {},
   "cell_type": "markdown",
   "metadata": {},
   "source": [
    "__Пример__. Найти левые нули производных функций."
   ]
  },
  {
   "cell_type": "code",
   "execution_count": 17,
   "metadata": {},
   "outputs": [
    {
     "data": {
      "text/plain": [
       "[3, -1, exp(-1)]"
      ]
     },
     "execution_count": 17,
     "metadata": {},
     "output_type": "execute_result"
    }
   ],
   "source": [
    "funcs = (\n",
    "    lambda x: x**2 - 6*x + 10,\n",
    "    lambda x: x**4 - 2*x**2 + 8,\n",
    "    lambda x: x*sym.log(x)\n",
    ")\n",
    "\n",
    "[min(sym.solve(derivHandmade(f))) for f in funcs]"
   ]
  },
  {
   "attachments": {},
   "cell_type": "markdown",
   "metadata": {},
   "source": [
    "__Пример__. Найти градиент функции в заданной точке."
   ]
  },
  {
   "cell_type": "code",
   "execution_count": 18,
   "metadata": {},
   "outputs": [
    {
     "data": {
      "text/plain": [
       "(-2, -0.5, 1)"
      ]
     },
     "execution_count": 18,
     "metadata": {},
     "output_type": "execute_result"
    }
   ],
   "source": [
    "w, x, y = varbs = sym.symbols('w x y')\n",
    "point = .5, 2, 3\n",
    "d = dict(zip(varbs, point))\n",
    "f = 1/w - w*x**2 + w*x*y\n",
    "beautify = lambda n: int(n) if not n % 1 else float(n)\n",
    "\n",
    "tuple(beautify(sym.diff(f, var).subs(d)) for var in varbs)"
   ]
  },
  {
   "attachments": {},
   "cell_type": "markdown",
   "metadata": {},
   "source": [
    "__Пример__. $f(x) = f(x_1,x_2) = (x^2_1,\\,3x^2_1 - x_2,\\,x_1x_2)$. Найти матрицу Якоби в заданной точке."
   ]
  },
  {
   "cell_type": "code",
   "execution_count": 19,
   "metadata": {},
   "outputs": [
    {
     "data": {
      "text/latex": [
       "$\\displaystyle \\left[\\begin{matrix}2 & 0\\\\6 & -1\\\\2 & 1\\end{matrix}\\right]$"
      ],
      "text/plain": [
       "Matrix([\n",
       "[2,  0],\n",
       "[6, -1],\n",
       "[2,  1]])"
      ]
     },
     "execution_count": 19,
     "metadata": {},
     "output_type": "execute_result"
    }
   ],
   "source": [
    "x, y  = varbs = sym.symbols('x y')\n",
    "point = 1, 2\n",
    "d = dict(zip(varbs, point))\n",
    "funcs = x**2, 3*x**2 - y, x*y\n",
    "\n",
    "sym.Matrix([[sym.diff(f, var).subs(d) for var in varbs] for f in funcs])"
   ]
  }
 ],
 "metadata": {
  "kernelspec": {
   "display_name": "Python 3",
   "language": "python",
   "name": "python3"
  },
  "language_info": {
   "codemirror_mode": {
    "name": "ipython",
    "version": 3
   },
   "file_extension": ".py",
   "mimetype": "text/x-python",
   "name": "python",
   "nbconvert_exporter": "python",
   "pygments_lexer": "ipython3",
   "version": "3.11.4"
  },
  "orig_nbformat": 4,
  "vscode": {
   "interpreter": {
    "hash": "f8c96a75684fb026b06b21d33b3de0343e22c021cb4e229f492bb76a8bcf102e"
   }
  }
 },
 "nbformat": 4,
 "nbformat_minor": 2
}
