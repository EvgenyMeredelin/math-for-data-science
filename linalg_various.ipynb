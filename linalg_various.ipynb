{
 "cells": [
  {
   "cell_type": "code",
   "execution_count": 1,
   "metadata": {},
   "outputs": [],
   "source": [
    "from fractions import Fraction\n",
    "import numpy as np\n",
    "import sympy as sym\n",
    "from scipy.spatial.distance import euclidean\n",
    "from sympy import I\n",
    "from sympy.ntheory import factorint"
   ]
  },
  {
   "attachments": {},
   "cell_type": "markdown",
   "metadata": {},
   "source": [
    "**Содержание**<a id='toc0_'></a>    \n",
    "- [__Линейные отображения__](#toc1_1_)    \n",
    "  - [__Линейные отображения на плоскости__](#toc1_1_1_)    \n",
    "- [__Умножение матриц__](#toc1_2_)    \n",
    "- [__Базис, размерность, ранг__](#toc1_3_)    \n",
    "- [__Определитель и его свойства__](#toc1_4_)    \n",
    "- [__Переход в другой базис__](#toc1_5_)    \n",
    "  - [__Переход от произвольного базиса к стандартному__](#toc1_5_1_)    \n",
    "  - [__Переход от стандартного базиса к произвольному__](#toc1_5_2_)    \n",
    "  - [__Переход от произвольного базиса к другому произвольному__](#toc1_5_3_)    \n",
    "- [__Длина, углы, скалярное произведение__](#toc1_6_)    \n",
    "  - [__Теорема косинусов__](#toc1_6_1_)    \n",
    "- [__Ортогональные преобразования__](#toc1_7_)    \n",
    "- [__Комплексные числа__](#toc1_8_)    \n",
    "\n",
    "<!-- vscode-jupyter-toc-config\n",
    "\tnumbering=false\n",
    "\tanchor=true\n",
    "\tflat=false\n",
    "\tminLevel=1\n",
    "\tmaxLevel=6\n",
    "\t/vscode-jupyter-toc-config -->\n",
    "<!-- THIS CELL WILL BE REPLACED ON TOC UPDATE. DO NOT WRITE YOUR TEXT IN THIS CELL -->"
   ]
  },
  {
   "cell_type": "markdown",
   "metadata": {},
   "source": [
    "***\n",
    "## <a id='toc1_1_'></a>[__Линейные отображения__](#toc0_)\n",
    "_Линейным отображением_ векторного пространства $V$ в векторное пространство $W$ называется __функция__ $f : V \\rightarrow W$, удовлетворяющая следующим двум условиям:\n",
    "\n",
    "1. $f(\\vec{x}) + f(\\vec{y}) = f(\\vec{x} + \\vec{y})$ для любых $\\vec{x}, \\vec{y} \\in V$ ($f$ _respects addition_),\n",
    "\n",
    "2. $f(c\\vec{x}) = cf(\\vec{x})$ для любого $\\vec{x} \\in V$ и любого числа $c \\in \\R$ ($f$ _respects multiplication by scalar_).\n",
    "\n",
    "Заметим, что в левой части равенства _1_ сложение векторов происходит в векторном пространстве $W$, а в правой части сложение происходит в $V$.\n",
    "\n",
    "Любое л.о. $f : \\R \\rightarrow \\R$ задается одним числом.\n",
    "\n",
    "Любое л.о. $f : \\R \\rightarrow \\R^m$ задается столбцом высоты $m$, состоящим из чисел.\n",
    "\n",
    "Любое л.о. $f : \\R^n \\rightarrow \\R$ задается строкой длины $n$, состоящей из чисел.\n",
    "\n",
    "Любое л.о. $f : \\R^n \\rightarrow \\R^m$ задается таблицей (матрицей) с $m$ строками и $n$ столбцами, заполненной числами.\n",
    "\n",
    "Любая матрица задаёт линейное отображение. Любое линейное отображение задаётся какой-то матрицей. Разные матрицы задают разные линейные отображения. Есть взаимно  однозначное соответствие между матрицами и линейными отображениями: каждой матрице соответствует ровно одно линейное отображение, и каждому линейному отображению поставлена в соответствие ровно одна матрица."
   ]
  },
  {
   "attachments": {},
   "cell_type": "markdown",
   "metadata": {},
   "source": [
    "$f : \\R^2 \\rightarrow \\R^2$ по формуле $f(x_1,x_2) = (x_2,x_1)$:"
   ]
  },
  {
   "cell_type": "code",
   "execution_count": 2,
   "metadata": {},
   "outputs": [
    {
     "data": {
      "text/latex": [
       "$\\displaystyle \\left[\\begin{matrix}{x}_{1}\\\\{x}_{2}\\end{matrix}\\right]$"
      ],
      "text/plain": [
       "Matrix([\n",
       "[x[1]],\n",
       "[x[2]]])"
      ]
     },
     "execution_count": 2,
     "metadata": {},
     "output_type": "execute_result"
    }
   ],
   "source": [
    "x = sym.Matrix([sym.Indexed('x', i) for i in (1, 2)])\n",
    "x"
   ]
  },
  {
   "cell_type": "code",
   "execution_count": 3,
   "metadata": {},
   "outputs": [
    {
     "data": {
      "text/latex": [
       "$\\displaystyle \\left[\\begin{matrix}0 & 1\\\\1 & 0\\end{matrix}\\right]$"
      ],
      "text/plain": [
       "Matrix([\n",
       "[0, 1],\n",
       "[1, 0]])"
      ]
     },
     "execution_count": 3,
     "metadata": {},
     "output_type": "execute_result"
    }
   ],
   "source": [
    "f = sym.Matrix([[0, 1], [1, 0]])\n",
    "f"
   ]
  },
  {
   "cell_type": "code",
   "execution_count": 4,
   "metadata": {},
   "outputs": [
    {
     "data": {
      "text/latex": [
       "$\\displaystyle \\left[\\begin{matrix}{x}_{2}\\\\{x}_{1}\\end{matrix}\\right]$"
      ],
      "text/plain": [
       "Matrix([\n",
       "[x[2]],\n",
       "[x[1]]])"
      ]
     },
     "execution_count": 4,
     "metadata": {},
     "output_type": "execute_result"
    }
   ],
   "source": [
    "f * x"
   ]
  },
  {
   "attachments": {},
   "cell_type": "markdown",
   "metadata": {},
   "source": [
    "$f : \\R^3 \\rightarrow \\R^2$, где $f(x_1,x_2,x_3) = (x_1 - x_2 + 2x_3, 10x_2)$:"
   ]
  },
  {
   "cell_type": "code",
   "execution_count": 5,
   "metadata": {},
   "outputs": [
    {
     "data": {
      "text/latex": [
       "$\\displaystyle \\left[\\begin{matrix}{x}_{1}\\\\{x}_{2}\\\\{x}_{3}\\end{matrix}\\right]$"
      ],
      "text/plain": [
       "Matrix([\n",
       "[x[1]],\n",
       "[x[2]],\n",
       "[x[3]]])"
      ]
     },
     "execution_count": 5,
     "metadata": {},
     "output_type": "execute_result"
    }
   ],
   "source": [
    "x = sym.Matrix([sym.Indexed('x', i) for i in range(1, 4)])\n",
    "x"
   ]
  },
  {
   "cell_type": "code",
   "execution_count": 6,
   "metadata": {},
   "outputs": [
    {
     "data": {
      "text/latex": [
       "$\\displaystyle \\left[\\begin{matrix}1 & -1 & 2\\\\0 & 10 & 0\\end{matrix}\\right]$"
      ],
      "text/plain": [
       "Matrix([\n",
       "[1, -1, 2],\n",
       "[0, 10, 0]])"
      ]
     },
     "execution_count": 6,
     "metadata": {},
     "output_type": "execute_result"
    }
   ],
   "source": [
    "f = sym.Matrix([[1, -1, 2], [0, 10, 0]])\n",
    "f"
   ]
  },
  {
   "cell_type": "code",
   "execution_count": 7,
   "metadata": {},
   "outputs": [
    {
     "data": {
      "text/latex": [
       "$\\displaystyle \\left[\\begin{matrix}{x}_{1} - {x}_{2} + 2 {x}_{3}\\\\10 {x}_{2}\\end{matrix}\\right]$"
      ],
      "text/plain": [
       "Matrix([\n",
       "[x[1] - x[2] + 2*x[3]],\n",
       "[             10*x[2]]])"
      ]
     },
     "execution_count": 7,
     "metadata": {},
     "output_type": "execute_result"
    }
   ],
   "source": [
    "f @ x"
   ]
  },
  {
   "cell_type": "markdown",
   "metadata": {},
   "source": [
    "***\n",
    "### <a id='toc1_1_1_'></a>[__Линейные отображения на плоскости__](#toc0_)\n",
    "\n",
    "$f(\\vec{x}) = k\\vec{x}$: $f$ растягивает все векторы в $k$ раз:"
   ]
  },
  {
   "cell_type": "code",
   "execution_count": 8,
   "metadata": {},
   "outputs": [
    {
     "data": {
      "text/latex": [
       "$\\displaystyle \\left[\\begin{matrix}k & 0\\\\0 & k\\end{matrix}\\right]$"
      ],
      "text/plain": [
       "Matrix([\n",
       "[k, 0],\n",
       "[0, k]])"
      ]
     },
     "execution_count": 8,
     "metadata": {},
     "output_type": "execute_result"
    }
   ],
   "source": [
    "k = sym.Symbol('k')\n",
    "fxk = sym.Matrix([[k, 0], [0, k]])\n",
    "fxk"
   ]
  },
  {
   "attachments": {},
   "cell_type": "markdown",
   "metadata": {},
   "source": [
    "Проекция на $OX$:"
   ]
  },
  {
   "cell_type": "code",
   "execution_count": 9,
   "metadata": {},
   "outputs": [
    {
     "data": {
      "text/latex": [
       "$\\displaystyle \\left[\\begin{matrix}1 & 0\\\\0 & 0\\end{matrix}\\right]$"
      ],
      "text/plain": [
       "Matrix([\n",
       "[1, 0],\n",
       "[0, 0]])"
      ]
     },
     "execution_count": 9,
     "metadata": {},
     "output_type": "execute_result"
    }
   ],
   "source": [
    "sym.Matrix([[1, 0], [0, 0]])"
   ]
  },
  {
   "attachments": {},
   "cell_type": "markdown",
   "metadata": {},
   "source": [
    "Проекция на $OY$:"
   ]
  },
  {
   "cell_type": "code",
   "execution_count": 10,
   "metadata": {},
   "outputs": [
    {
     "data": {
      "text/latex": [
       "$\\displaystyle \\left[\\begin{matrix}0 & 0\\\\0 & 1\\end{matrix}\\right]$"
      ],
      "text/plain": [
       "Matrix([\n",
       "[0, 0],\n",
       "[0, 1]])"
      ]
     },
     "execution_count": 10,
     "metadata": {},
     "output_type": "execute_result"
    }
   ],
   "source": [
    "sym.Matrix([[0, 0], [0, 1]])"
   ]
  },
  {
   "attachments": {},
   "cell_type": "markdown",
   "metadata": {},
   "source": [
    "Зеркальная симметрия относительно $OX$:"
   ]
  },
  {
   "cell_type": "code",
   "execution_count": 11,
   "metadata": {},
   "outputs": [
    {
     "data": {
      "text/latex": [
       "$\\displaystyle \\left[\\begin{matrix}1 & 0\\\\0 & -1\\end{matrix}\\right]$"
      ],
      "text/plain": [
       "Matrix([\n",
       "[1,  0],\n",
       "[0, -1]])"
      ]
     },
     "execution_count": 11,
     "metadata": {},
     "output_type": "execute_result"
    }
   ],
   "source": [
    "# знак ординаты меняется на противоположный\n",
    "sym.Matrix([[1, 0], [0, -1]])"
   ]
  },
  {
   "attachments": {},
   "cell_type": "markdown",
   "metadata": {},
   "source": [
    "Зеркальная симметрия относительно $OY$:"
   ]
  },
  {
   "cell_type": "code",
   "execution_count": 12,
   "metadata": {},
   "outputs": [
    {
     "data": {
      "text/latex": [
       "$\\displaystyle \\left[\\begin{matrix}-1 & 0\\\\0 & 1\\end{matrix}\\right]$"
      ],
      "text/plain": [
       "Matrix([\n",
       "[-1, 0],\n",
       "[ 0, 1]])"
      ]
     },
     "execution_count": 12,
     "metadata": {},
     "output_type": "execute_result"
    }
   ],
   "source": [
    "# знак абсциссы меняется на противоположный\n",
    "sym.Matrix([[-1, 0], [0, 1]])"
   ]
  },
  {
   "attachments": {},
   "cell_type": "markdown",
   "metadata": {},
   "source": [
    "Центральная симметрия с центром в $(0,0)$:"
   ]
  },
  {
   "cell_type": "code",
   "execution_count": 13,
   "metadata": {},
   "outputs": [
    {
     "data": {
      "text/latex": [
       "$\\displaystyle \\left[\\begin{matrix}-1 & 0\\\\0 & -1\\end{matrix}\\right]$"
      ],
      "text/plain": [
       "Matrix([\n",
       "[-1,  0],\n",
       "[ 0, -1]])"
      ]
     },
     "execution_count": 13,
     "metadata": {},
     "output_type": "execute_result"
    }
   ],
   "source": [
    "sym.Matrix([[-1, 0], [0, -1]])"
   ]
  },
  {
   "attachments": {},
   "cell_type": "markdown",
   "metadata": {},
   "source": [
    "Поворот на $90^{\\circ}$ против часовой:"
   ]
  },
  {
   "cell_type": "code",
   "execution_count": 14,
   "metadata": {},
   "outputs": [
    {
     "data": {
      "text/latex": [
       "$\\displaystyle \\left[\\begin{matrix}0 & -1\\\\1 & 0\\end{matrix}\\right]$"
      ],
      "text/plain": [
       "Matrix([\n",
       "[0, -1],\n",
       "[1,  0]])"
      ]
     },
     "execution_count": 14,
     "metadata": {},
     "output_type": "execute_result"
    }
   ],
   "source": [
    "# 1. поворот против часовой - значит, зеркальная симметрия относительно OY;\n",
    "# 2. абсцисса и ордината меняются местами\n",
    "sym.Matrix([[0, -1], [1, 0]])"
   ]
  },
  {
   "attachments": {},
   "cell_type": "markdown",
   "metadata": {},
   "source": [
    "Поворот на $90^{\\circ}$ по часовой:"
   ]
  },
  {
   "cell_type": "code",
   "execution_count": 15,
   "metadata": {},
   "outputs": [
    {
     "data": {
      "text/latex": [
       "$\\displaystyle \\left[\\begin{matrix}0 & 1\\\\-1 & 0\\end{matrix}\\right]$"
      ],
      "text/plain": [
       "Matrix([\n",
       "[ 0, 1],\n",
       "[-1, 0]])"
      ]
     },
     "execution_count": 15,
     "metadata": {},
     "output_type": "execute_result"
    }
   ],
   "source": [
    "# 1. поворот по часовой - значит, зеркальная симметрия относительно OX;\n",
    "# 2. абсцисса и ордината меняются местами\n",
    "sym.Matrix([[0, 1], [-1, 0]])"
   ]
  },
  {
   "cell_type": "markdown",
   "metadata": {},
   "source": [
    "***\n",
    "## <a id='toc1_2_'></a>[__Умножение матриц__](#toc0_)"
   ]
  },
  {
   "cell_type": "code",
   "execution_count": 16,
   "metadata": {},
   "outputs": [],
   "source": [
    "arr = np.arange(1,16)\n",
    "X = arr.reshape(3,5)\n",
    "Y = arr.reshape(5,3)"
   ]
  },
  {
   "cell_type": "code",
   "execution_count": 17,
   "metadata": {},
   "outputs": [
    {
     "data": {
      "text/plain": [
       "array([[ 1,  2,  3,  4,  5],\n",
       "       [ 6,  7,  8,  9, 10],\n",
       "       [11, 12, 13, 14, 15]])"
      ]
     },
     "execution_count": 17,
     "metadata": {},
     "output_type": "execute_result"
    }
   ],
   "source": [
    "X"
   ]
  },
  {
   "cell_type": "code",
   "execution_count": 18,
   "metadata": {},
   "outputs": [
    {
     "data": {
      "text/plain": [
       "array([[ 1,  2,  3],\n",
       "       [ 4,  5,  6],\n",
       "       [ 7,  8,  9],\n",
       "       [10, 11, 12],\n",
       "       [13, 14, 15]])"
      ]
     },
     "execution_count": 18,
     "metadata": {},
     "output_type": "execute_result"
    }
   ],
   "source": [
    "Y"
   ]
  },
  {
   "cell_type": "code",
   "execution_count": 19,
   "metadata": {},
   "outputs": [
    {
     "data": {
      "text/plain": [
       "array([[135, 150, 165],\n",
       "       [310, 350, 390],\n",
       "       [485, 550, 615]])"
      ]
     },
     "execution_count": 19,
     "metadata": {},
     "output_type": "execute_result"
    }
   ],
   "source": [
    "X @ Y"
   ]
  },
  {
   "cell_type": "code",
   "execution_count": 20,
   "metadata": {},
   "outputs": [
    {
     "data": {
      "text/plain": [
       "135"
      ]
     },
     "execution_count": 20,
     "metadata": {},
     "output_type": "execute_result"
    }
   ],
   "source": [
    "X[0] @ Y[:,0]"
   ]
  },
  {
   "cell_type": "code",
   "execution_count": 21,
   "metadata": {},
   "outputs": [
    {
     "data": {
      "text/plain": [
       "310"
      ]
     },
     "execution_count": 21,
     "metadata": {},
     "output_type": "execute_result"
    }
   ],
   "source": [
    "X[1] @ Y[:,0]"
   ]
  },
  {
   "cell_type": "code",
   "execution_count": 22,
   "metadata": {},
   "outputs": [
    {
     "data": {
      "text/plain": [
       "150"
      ]
     },
     "execution_count": 22,
     "metadata": {},
     "output_type": "execute_result"
    }
   ],
   "source": [
    "X[0] @ Y[:,1]"
   ]
  },
  {
   "attachments": {},
   "cell_type": "markdown",
   "metadata": {},
   "source": [
    "__`310`__ встает на место $[1,0]$, __`150`__ встает на место $[0,1]$ и т.д.: на $i$-ом месте в $j$-ом столбце матрицы $XY$ стоит произведение $i$-ой строки $X$ и $j$-ого столбца $Y$.\n",
    "\n",
    "Умножение $XY$ определено, если число столбцов $X$ равно числу строк $Y$. "
   ]
  },
  {
   "cell_type": "markdown",
   "metadata": {},
   "source": [
    "***\n",
    "## <a id='toc1_3_'></a>[__Базис, размерность, ранг__](#toc0_)\n",
    "__Задача__. Найти координаты вектора $(-4,8,-2)$ в базисе $(1,2,0), (2,0,1), (0,0,2)$."
   ]
  },
  {
   "cell_type": "code",
   "execution_count": 23,
   "metadata": {},
   "outputs": [
    {
     "data": {
      "text/plain": [
       "array([ 4., -4.,  1.])"
      ]
     },
     "execution_count": 23,
     "metadata": {},
     "output_type": "execute_result"
    }
   ],
   "source": [
    "a = np.array([[1, 2, 0], [2, 0, 0], [0, 1, 2]])\n",
    "b = np.array([-4, 8, -2])\n",
    "\n",
    "x = np.linalg.solve(a, b)\n",
    "x"
   ]
  },
  {
   "cell_type": "code",
   "execution_count": 24,
   "metadata": {},
   "outputs": [
    {
     "data": {
      "text/plain": [
       "True"
      ]
     },
     "execution_count": 24,
     "metadata": {},
     "output_type": "execute_result"
    }
   ],
   "source": [
    "np.all(a @ x == b)"
   ]
  },
  {
   "attachments": {},
   "cell_type": "markdown",
   "metadata": {},
   "source": [
    "__Задача__. Применить метод Гаусса к заданной матрице __`M`__."
   ]
  },
  {
   "cell_type": "code",
   "execution_count": 25,
   "metadata": {},
   "outputs": [
    {
     "data": {
      "text/latex": [
       "$\\displaystyle \\left[\\begin{matrix}1 & 0 & 0 & - \\frac{19}{2}\\\\0 & 1 & 0 & \\frac{7}{2}\\\\0 & 0 & 1 & - \\frac{1}{2}\\\\0 & 0 & 0 & 0\\end{matrix}\\right]$"
      ],
      "text/plain": [
       "Matrix([\n",
       "[1, 0, 0, -19/2],\n",
       "[0, 1, 0,   7/2],\n",
       "[0, 0, 1,  -1/2],\n",
       "[0, 0, 0,     0]])"
      ]
     },
     "execution_count": 25,
     "metadata": {},
     "output_type": "execute_result"
    }
   ],
   "source": [
    "M = sym.Matrix([[0, 6, 8, 17],\n",
    "                [3, 13, 18, 8],\n",
    "                [2, 8, 10, 4],\n",
    "                [1, 3, 2, 0]])\n",
    "\n",
    "M.rref(pivots=False)"
   ]
  },
  {
   "attachments": {},
   "cell_type": "markdown",
   "metadata": {},
   "source": [
    "См. [__row echelon form__](https://en.wikipedia.org/wiki/Row_echelon_form)."
   ]
  },
  {
   "cell_type": "code",
   "execution_count": 26,
   "metadata": {},
   "outputs": [
    {
     "data": {
      "text/plain": [
       "3"
      ]
     },
     "execution_count": 26,
     "metadata": {},
     "output_type": "execute_result"
    }
   ],
   "source": [
    "M.rank()  # 3, что также видно из ref выше"
   ]
  },
  {
   "cell_type": "markdown",
   "metadata": {},
   "source": [
    "***\n",
    "## <a id='toc1_4_'></a>[__Определитель и его свойства__](#toc0_)\n",
    "Геометрическая интерпретация: площадь параллелограмма (объем параллелепипеда), натянутого на вектор-__столбцы__ матрицы.\n",
    "\n",
    "Если столбцы матрицы задают правый базис, ориентированная площадь параллелограмма положительна. Правый базис: кратчайший поворот __против__ часовой стрелки (поворот от большого пальца к указательному на правой руке). В трехмерном случае правая тройка векторов соответствует движению крышки __вверх__ при при ее повороте против часовой стрелки.\n",
    "\n",
    "__Свойства определителя__:\n",
    "\n",
    "1. _Свойство равноправности строк и столбцов_. При транспонировании величина определителя сохраняется.\n",
    "\n",
    "2. _Свойство антисимметрии при перестановке двух строк (или двух столбцов)_. При перестановке двух строк (или двух столбцов) определитель сохраняет свою абсолютную величину, но меняет знак на противоположный.\n",
    "\n",
    "3. _Линейное свойство определителя_. Если в определителе $n$-ого порядка $\\Delta$ некоторая строка является линейной комбинацией двух строк с коэффициентами $\\lambda$ и $\\mu$, то $\\Delta = \\lambda \\Delta_1 + \\mu \\Delta_2$. Справедливо для нескольких строк, справедливо для столбцов.\n",
    "\n",
    "__Следствия из свойств определителя__:\n",
    "\n",
    "1. _Определитель с двумя одинаковыми строками (или столбцами) равен нулю_. \n",
    "<br>При перестановке двух одинаковых строк, с одной стороны, определитель $\\Delta$ не изменится, а с другой стороны, изменит знак на противоположный: $\\Delta = -\\Delta, 2\\Delta = 0, \\Delta = 0$.\n",
    "\n",
    "2. _Умножение всех элементов некоторой строки (столбца) определителя на число $\\lambda$ равносильно умножению определителя на это число_ $\\lambda$. \n",
    "<br>Иными словами, общий множитель всех элементов некоторой строки (столбца) определителя можно вынести за знак этого определителя. \n",
    "<br>Это вытекает из свойства линейности определителя при $\\mu = 0$.\n",
    "\n",
    "3. _Если все элементы некоторой строки (столбца) определителя равны нулю, то и сам определитель равен нулю_. <br>Это вытекает из предыдущего следствия при $\\lambda = 0$.\n",
    "\n",
    "4. _Если элементы двух строк (столбцов) определителя пропорциональны, то определитель равен нулю_. \n",
    "<br>Множитель пропорциональности можно вынести за знак определителя, после чего останется определитель с двумя одинаковыми строками, который равен нулю.\n",
    "\n",
    "5. _Если к элементам некоторой строки (столбца) определителя прибавить соответствующие элементы другой строки (столбца), умноженные на произвольный множитель $\\lambda$, то величина определителя не изменится_. <br>Полученный таким образом определитель можно, согласно свойству линейности определителя, разбить на сумму двух определителей, первый из которых совпадает с исходным, а второй равен нулю, в силу пропорциональности двух строк (столбцов)."
   ]
  },
  {
   "cell_type": "markdown",
   "metadata": {},
   "source": [
    "***\n",
    "## <a id='toc1_5_'></a>[__Переход в другой базис__](#toc0_)\n",
    "### <a id='toc1_5_1_'></a>[__Переход от произвольного базиса к стандартному__](#toc0_)\n",
    "\n",
    "__Пример__. Пусть $(-1,-2,3)$ это координаты вектора $\\vec{u}$ в базисе $\\vec{h}_1 = (1,0,2),\\vec{h}_2 = (-3,4,0),\\vec{h}_3 = (0,-5,8)$. Найти координаты вектора $\\vec{u}$ в стандартном базисе."
   ]
  },
  {
   "cell_type": "code",
   "execution_count": 27,
   "metadata": {},
   "outputs": [
    {
     "data": {
      "text/plain": [
       "array([  5, -23,  22])"
      ]
     },
     "execution_count": 27,
     "metadata": {},
     "output_type": "execute_result"
    }
   ],
   "source": [
    "h = np.array([[1, -3, 0],\n",
    "              [0, 4, -5],\n",
    "              [2, 0, 8]])\n",
    "\n",
    "u = np.array([-1, -2, 3])\n",
    "\n",
    "h @ u"
   ]
  },
  {
   "attachments": {},
   "cell_type": "markdown",
   "metadata": {},
   "source": [
    "Чуть более наглядно:"
   ]
  },
  {
   "cell_type": "code",
   "execution_count": 28,
   "metadata": {},
   "outputs": [
    {
     "data": {
      "text/latex": [
       "$\\displaystyle \\left[\\begin{matrix}5 e_{1} - 23 e_{2} + 22 e_{3}\\end{matrix}\\right]$"
      ],
      "text/plain": [
       "Matrix([[5*e1 - 23*e2 + 22*e3]])"
      ]
     },
     "execution_count": 28,
     "metadata": {},
     "output_type": "execute_result"
    }
   ],
   "source": [
    "e1, e2, e3 = sym.symbols('e1 e2 e3')  # станд. базис\n",
    "h1 = e1 + 0*e2 + 2*e3\n",
    "h2 = -3*e1 + 4*e2 + 0*e3\n",
    "h3 = 0*e1 - 5*e2 + 8*e3\n",
    "\n",
    "h = sym.Matrix([h1, h2, h3])\n",
    "u = sym.Matrix([-1, -2, 3])\n",
    "\n",
    "h.T @ u"
   ]
  },
  {
   "cell_type": "markdown",
   "metadata": {},
   "source": [
    "### <a id='toc1_5_2_'></a>[__Переход от стандартного базиса к произвольному__](#toc0_)\n",
    "\n",
    "__Пример__. Для вектора с координатами $(1,2,3)$ в стандартном базисе найти его координаты в базисе $\\vec{f}_1 = (7,0,0),\\vec{f}_2 = (6,5,0),\\vec{f}_3 = (4,3,2)$.\n",
    "\n",
    "$Ax = b\n",
    "\\\\ A^{-1}Ax = A^{-1}b\n",
    "\\\\ x = A^{-1}b$"
   ]
  },
  {
   "cell_type": "code",
   "execution_count": 29,
   "metadata": {},
   "outputs": [
    {
     "data": {
      "text/plain": [
       "array([-0.28571429, -0.5       ,  1.5       ])"
      ]
     },
     "execution_count": 29,
     "metadata": {},
     "output_type": "execute_result"
    }
   ],
   "source": [
    "A = np.array([[7, 6, 4], [0, 5, 3], [0, 0, 2]])\n",
    "b = np.array([1, 2, 3])\n",
    "\n",
    "np.linalg.solve(A, b)"
   ]
  },
  {
   "cell_type": "code",
   "execution_count": 30,
   "metadata": {},
   "outputs": [
    {
     "data": {
      "text/plain": [
       "array([-0.28571429, -0.5       ,  1.5       ])"
      ]
     },
     "execution_count": 30,
     "metadata": {},
     "output_type": "execute_result"
    }
   ],
   "source": [
    "x = np.linalg.inv(A) @ b\n",
    "x"
   ]
  },
  {
   "cell_type": "code",
   "execution_count": 31,
   "metadata": {},
   "outputs": [
    {
     "data": {
      "text/plain": [
       "Fraction(-2, 7)"
      ]
     },
     "execution_count": 31,
     "metadata": {},
     "output_type": "execute_result"
    }
   ],
   "source": [
    "Fraction(x[0]).limit_denominator()"
   ]
  },
  {
   "cell_type": "code",
   "execution_count": 32,
   "metadata": {},
   "outputs": [
    {
     "data": {
      "text/plain": [
       "True"
      ]
     },
     "execution_count": 32,
     "metadata": {},
     "output_type": "execute_result"
    }
   ],
   "source": [
    "np.all(A @ np.array([-2/7, -1/2, 3/2]) == b)"
   ]
  },
  {
   "cell_type": "code",
   "execution_count": 33,
   "metadata": {},
   "outputs": [
    {
     "data": {
      "text/latex": [
       "$\\displaystyle \\left[\\begin{matrix}- \\frac{2}{7}\\\\- \\frac{1}{2}\\\\\\frac{3}{2}\\end{matrix}\\right]$"
      ],
      "text/plain": [
       "Matrix([\n",
       "[-2/7],\n",
       "[-1/2],\n",
       "[ 3/2]])"
      ]
     },
     "execution_count": 33,
     "metadata": {},
     "output_type": "execute_result"
    }
   ],
   "source": [
    "A = sym.Matrix([[7, 6, 4], [0, 5, 3], [0, 0, 2]])\n",
    "b = sym.Matrix([1, 2, 3])\n",
    "\n",
    "A.inv() @ b"
   ]
  },
  {
   "attachments": {},
   "cell_type": "markdown",
   "metadata": {},
   "source": [
    "__Следствие__. Если $X$ - квадратная матрица полного ранга, то $\\det X^{-1} = \\frac{1}{\\det X}$:"
   ]
  },
  {
   "cell_type": "code",
   "execution_count": 34,
   "metadata": {},
   "outputs": [
    {
     "data": {
      "text/plain": [
       "40.0"
      ]
     },
     "execution_count": 34,
     "metadata": {},
     "output_type": "execute_result"
    }
   ],
   "source": [
    "X = np.array([[4, 7, 0],\n",
    "              [0, 5, 1],\n",
    "              [0, 0, 2]])\n",
    "\n",
    "np.linalg.det(X)"
   ]
  },
  {
   "cell_type": "code",
   "execution_count": 35,
   "metadata": {},
   "outputs": [
    {
     "data": {
      "text/plain": [
       "0.025"
      ]
     },
     "execution_count": 35,
     "metadata": {},
     "output_type": "execute_result"
    }
   ],
   "source": [
    "np.linalg.det(np.linalg.inv(X))"
   ]
  },
  {
   "cell_type": "markdown",
   "metadata": {},
   "source": [
    "### <a id='toc1_5_3_'></a>[__Переход от произвольного базиса к другому произвольному__](#toc0_)\n",
    "\n",
    "__Пример__. Пусть $f : \\vec{f_1} = (3,2), \\vec{f_2} = (1,0)$ и $g : \\vec{g_1} = (5,0), \\vec{g_2} = (-1,2)$ - базисы на плоскости. Найти матрицу перехода от $f$ к $g$.\n",
    "\n",
    "Соединим два случая выше в один пайплайн: переход от произвольного базиса к стандартному (1) и от стандартного к другому произвольному (2).\n",
    "\n",
    "* случай (1) очевиден и не должен вызывать трудностей.\n",
    "\n",
    "* случай (2) перевертыш первого: _на что нужно умножить известное, чтобы получить другое известное?_ Простейшее уравнение с учетом матричных особенностей.\n",
    "\n",
    "* случай (3) - первые два вместе, стандартный базис как перемычка."
   ]
  },
  {
   "cell_type": "code",
   "execution_count": 36,
   "metadata": {},
   "outputs": [
    {
     "data": {
      "text/plain": [
       "array([[0.8, 0.2],\n",
       "       [1. , 0. ]])"
      ]
     },
     "execution_count": 36,
     "metadata": {},
     "output_type": "execute_result"
    }
   ],
   "source": [
    "F = np.array([[3, 1], [2, 0]])\n",
    "G = np.array([[5, -1], [0, 2]])\n",
    "\n",
    "np.linalg.inv(G) @ F"
   ]
  },
  {
   "cell_type": "markdown",
   "metadata": {},
   "source": [
    "***\n",
    "## <a id='toc1_6_'></a>[__Длина, углы, скалярное произведение__](#toc0_)\n",
    "__Задача__. Найти длину вектора $(2\\vec{a}-3\\vec{b})$, где $\\vec{a} = (9,6,7)$ и $\\vec{b} = (5,4,6)$."
   ]
  },
  {
   "cell_type": "code",
   "execution_count": 37,
   "metadata": {},
   "outputs": [],
   "source": [
    "a = np.array([9, 6, 7])\n",
    "b = np.array([5, 4, 6])\n",
    "c = 2*a - 3*b"
   ]
  },
  {
   "cell_type": "code",
   "execution_count": 38,
   "metadata": {},
   "outputs": [
    {
     "data": {
      "text/plain": [
       "5.0"
      ]
     },
     "execution_count": 38,
     "metadata": {},
     "output_type": "execute_result"
    }
   ],
   "source": [
    "np.sqrt(sum(c**2))"
   ]
  },
  {
   "cell_type": "code",
   "execution_count": 39,
   "metadata": {},
   "outputs": [
    {
     "data": {
      "text/plain": [
       "5.0"
      ]
     },
     "execution_count": 39,
     "metadata": {},
     "output_type": "execute_result"
    }
   ],
   "source": [
    "np.linalg.norm(c)"
   ]
  },
  {
   "cell_type": "code",
   "execution_count": 40,
   "metadata": {},
   "outputs": [
    {
     "data": {
      "text/plain": [
       "5.0"
      ]
     },
     "execution_count": 40,
     "metadata": {},
     "output_type": "execute_result"
    }
   ],
   "source": [
    "euclidean(2*a, 3*b)"
   ]
  },
  {
   "attachments": {},
   "cell_type": "markdown",
   "metadata": {},
   "source": [
    "### <a id='toc1_6_1_'></a>[__Теорема косинусов__](#toc0_)\n",
    "\n",
    "$$\\Large a^2 + b^2 - 2ab\\cos\\alpha = c^2$$\n",
    "\n",
    "(угол $\\alpha$ противолежит стороне $c$)"
   ]
  },
  {
   "cell_type": "code",
   "execution_count": 41,
   "metadata": {},
   "outputs": [],
   "source": [
    "def cosAlpha_tri(a, b, *, c):\n",
    "    \"\"\"cos alpha opposing triangle side c. \"\"\"\n",
    "    return (a**2 + b**2 - c**2) / (2*a*b)"
   ]
  },
  {
   "cell_type": "code",
   "execution_count": 42,
   "metadata": {},
   "outputs": [
    {
     "data": {
      "text/plain": [
       "-0.1111111111111111"
      ]
     },
     "execution_count": 42,
     "metadata": {},
     "output_type": "execute_result"
    }
   ],
   "source": [
    "cosAlpha_tri(7, 9, c=12)"
   ]
  },
  {
   "attachments": {},
   "cell_type": "markdown",
   "metadata": {},
   "source": [
    "$(a)\\; \\langle\\vec{x},\\vec{x}\\rangle = x_1x_1+...+x_nx_n = x_1^2+...+x_n^2 = \\|\\vec{x}\\|^2$\n",
    "\n",
    "$(b)\\; \\langle\\vec{x}+\\vec{y},\\vec{z}\\rangle = (x_1+y_1)z_1+...+(x_n+y_n)z_n = \\langle\\vec{x},\\vec{z}\\rangle + \\langle\\vec{y},\\vec{z}\\rangle$\n",
    "\n",
    "$(c)\\; \\|\\vec{x}+\\vec{y}\\|^2 = \\overbrace{\\langle\\vec{x}+\\vec{y},\\vec{x}+\\vec{y}\\rangle}^{см.(a)} = \\underbrace{\\langle\\vec{x},\\vec{x}\\rangle + \\langle\\vec{x},\\vec{y}\\rangle + \\langle\\vec{y},\\vec{x}\\rangle + \\langle\\vec{y},\\vec{y}\\rangle}_{см. (b)} = \\|\\vec{x}\\|^2 + 2\\langle\\vec{x},\\vec{y}\\rangle + \\|\\vec{y}\\|^2 \\Rightarrow$\n",
    "$$\\langle\\vec{x},\\vec{y}\\rangle = \\frac{\\|\\vec{x}+\\vec{y}\\|^2 - \\|\\vec{x}\\|^2 - \\|\\vec{y}\\|^2}{2}.$$\n",
    "\n",
    "Из $(c)$ заменой знака:\n",
    "$$\\|\\vec{x}-\\vec{y}\\|^2 = \\|\\vec{x}\\|^2 - 2\\langle\\vec{x},\\vec{y}\\rangle + \\|\\vec{y}\\|^2$$\n",
    "\n",
    "По теореме косинусов:\n",
    "$$\\|\\vec{x}-\\vec{y}\\|^2 = \\|\\vec{x}\\|^2 + \\|\\vec{y}\\|^2 - 2\\cdot\\|\\vec{x}\\|\\cdot\\|\\vec{y}\\|\\cdot\\cos\\alpha$$\n",
    "\n",
    "__Вывод__:\n",
    "$$\\Large \\langle\\vec{x},\\vec{y}\\rangle = \\|\\vec{x}\\|\\cdot\\|\\vec{y}\\|\\cdot\\cos\\alpha$$\n",
    "\n",
    "__Следствие__: Если вектора ортогональны, их скалярное произведение равно нулю.\n",
    "\n"
   ]
  },
  {
   "cell_type": "code",
   "execution_count": 43,
   "metadata": {},
   "outputs": [],
   "source": [
    "def cosAlpha_vec(a, b):\n",
    "    \"\"\"cos alpha between given vectors. \"\"\"\n",
    "    return a @ b / np.linalg.norm(a) / np.linalg.norm(b)"
   ]
  },
  {
   "cell_type": "code",
   "execution_count": 44,
   "metadata": {},
   "outputs": [
    {
     "data": {
      "text/plain": [
       "0.5076923076923077"
      ]
     },
     "execution_count": 44,
     "metadata": {},
     "output_type": "execute_result"
    }
   ],
   "source": [
    "cosAlpha_vec(np.array([5, 12]), np.array([-3, 4]))"
   ]
  },
  {
   "cell_type": "markdown",
   "metadata": {},
   "source": [
    "***\n",
    "## <a id='toc1_7_'></a>[__Ортогональные преобразования__](#toc0_)\n",
    "_Ортогональным_ называется преобразование $Q$, сохраняющее длины векторов:\n",
    "<br>$\\|Q\\vec{x}\\| = \\|\\vec{x}\\|$ для всех $\\vec{x} \\in \\R^n$.\n",
    "\n",
    "Поворот вокруг $\\vec{0}$ на угол $\\beta$:"
   ]
  },
  {
   "cell_type": "code",
   "execution_count": 45,
   "metadata": {},
   "outputs": [
    {
     "data": {
      "text/latex": [
       "$\\displaystyle \\left[\\begin{matrix}r \\cos{\\left(\\alpha + \\beta \\right)}\\\\r \\sin{\\left(\\alpha + \\beta \\right)}\\end{matrix}\\right]$"
      ],
      "text/plain": [
       "Matrix([\n",
       "[r*cos(alpha + beta)],\n",
       "[r*sin(alpha + beta)]])"
      ]
     },
     "execution_count": 45,
     "metadata": {},
     "output_type": "execute_result"
    }
   ],
   "source": [
    "a, b, r = sym.symbols('alpha beta r')\n",
    "\n",
    "rotate = sym.Matrix([[sym.cos(b), -sym.sin(b)],\n",
    "                     [sym.sin(b), sym.cos(b)]])\n",
    "\n",
    "vector = sym.Matrix([r*sym.cos(a), r*sym.sin(a)])\n",
    "\n",
    "(rotate @ vector).applyfunc(lambda x: x.simplify())"
   ]
  },
  {
   "attachments": {},
   "cell_type": "markdown",
   "metadata": {},
   "source": [
    "Вектор __`vector`__ перешел из $\\begin{pmatrix}\n",
    "r\\cos\\alpha\\\\\n",
    "r\\sin\\alpha\n",
    "\\end{pmatrix}$ в $\\begin{pmatrix}\n",
    "r\\cos(\\alpha+\\beta)\\\\\n",
    "r\\sin(\\alpha+\\beta)\n",
    "\\end{pmatrix}$ - разумеется, с сохранением длины. Следовательно, матрица поворота __`rotate`__ - ортогональная.\n",
    "\n",
    "Ортогональное преобразование сохраняет длины и скалярное произведение. Значит, сохраняет и углы. \n",
    "<br>Про ортогональное преобразование можно думать как про движение пространства _целиком_: разные части пространства двигаются все вместе и не смещаются друг относительно друга. Поскольку преобразование должно быть линейным, оно оставляет вектор $\\vec{0}$ на месте.\n",
    "\n",
    "В $\\R^1\\; \\text{E}$ или $(-\\text{E})$, в $\\R^2$ - поворот с центром в $\\vec{0}$.\n",
    "\n",
    "Важнейшее свойство ортогональных матриц:\n",
    "$$\\Large Q^TQ = \\text{E},$$\n",
    "что означает, что $Q^T = Q^{-1}$, и, следовательно, $QQ^T = \\text{E}$.\n",
    "$$1 = \\det\\text{E} = \\det(Q^TQ) = \\det Q^T \\cdot \\det Q = \\det Q \\cdot \\det Q = (\\det Q)^2,$$\n",
    "из чего следует, что определитель любой ортогональной матрицы равен $1$ или $-1$."
   ]
  },
  {
   "cell_type": "markdown",
   "metadata": {},
   "source": [
    "***\n",
    "## <a id='toc1_8_'></a>[__Комплексные числа__](#toc0_)\n",
    "Число $i$ – не единственное число, которое в квадрате даёт $−1$. Число $(−i)$ в квадрате также дает $(−1)$:\n",
    "$$(-i)^2 = ((-1) \\cdot i)^2 = (-1)^2 \\cdot i^2 = 1 \\cdot (-1) = -1.$$\n",
    "\n",
    "$z = a + bi\\\\\n",
    "a = \\textbf{Re}(z),\\,b = \\textbf{Im}(z)\\\\\n",
    "r = |z| = \\sqrt{a^2+b^2}\\\\\n",
    "a = r\\cos\\alpha,\\,b = r\\sin\\alpha\\\\\n",
    "\\alpha = \\arg(z),\\,\\alpha \\in [0,2\\pi)$"
   ]
  },
  {
   "cell_type": "code",
   "execution_count": 46,
   "metadata": {},
   "outputs": [
    {
     "data": {
      "text/plain": [
       "(29+9j)"
      ]
     },
     "execution_count": 46,
     "metadata": {},
     "output_type": "execute_result"
    }
   ],
   "source": [
    "z = (2 + 3j) * (4 - 5j) + 6 + 7j\n",
    "z"
   ]
  },
  {
   "cell_type": "code",
   "execution_count": 47,
   "metadata": {},
   "outputs": [
    {
     "data": {
      "text/plain": [
       "(29.0, 9.0)"
      ]
     },
     "execution_count": 47,
     "metadata": {},
     "output_type": "execute_result"
    }
   ],
   "source": [
    "z.real, z.imag  # действительная и мнимая части"
   ]
  },
  {
   "cell_type": "code",
   "execution_count": 48,
   "metadata": {},
   "outputs": [
    {
     "data": {
      "text/plain": [
       "30.364452901377952"
      ]
     },
     "execution_count": 48,
     "metadata": {},
     "output_type": "execute_result"
    }
   ],
   "source": [
    "abs(z)  # модуль, r, также np.absolute(z)"
   ]
  },
  {
   "cell_type": "code",
   "execution_count": 49,
   "metadata": {},
   "outputs": [
    {
     "data": {
      "text/plain": [
       "0.3009202343604251"
      ]
     },
     "execution_count": 49,
     "metadata": {},
     "output_type": "execute_result"
    }
   ],
   "source": [
    "np.angle(z)  # arg, опции rad/deg, также np.arctan2(z.imag, z.real)"
   ]
  },
  {
   "cell_type": "code",
   "execution_count": 50,
   "metadata": {},
   "outputs": [
    {
     "data": {
      "text/plain": [
       "(29-9j)"
      ]
     },
     "execution_count": 50,
     "metadata": {},
     "output_type": "execute_result"
    }
   ],
   "source": [
    "z.conjugate()  # сопряженное компл. число"
   ]
  },
  {
   "attachments": {},
   "cell_type": "markdown",
   "metadata": {},
   "source": [
    "На комплексной плоскости сопряжённые числа представлены точками, симметричными относительно действительной оси. Сопряжёнными числами являются корни квадратного уравнения с действительными коэффициентами и отрицательным дискриминантом.\n",
    "\n",
    "__Свойство__. При умножении комплексных чисел модули перемножаются, а аргументы складываются:\n",
    "\n",
    "$z = a + bi,\\,w = c + di\\\\\n",
    "|z| = R,\\,|w| = r\\\\\n",
    "\\arg(z) = \\beta,\\,\\arg(w) = \\alpha\\\\\n",
    "z \\cdot w = (ac - bd) + (bc + ad) \\cdot i$"
   ]
  },
  {
   "cell_type": "code",
   "execution_count": 51,
   "metadata": {},
   "outputs": [],
   "source": [
    "r, R, alpha, beta = sym.symbols('r R alpha beta')\n",
    "a, b = R * sym.cos(beta), R * sym.sin(beta)\n",
    "c, d = r * sym.cos(alpha), r * sym.sin(alpha)"
   ]
  },
  {
   "cell_type": "code",
   "execution_count": 52,
   "metadata": {},
   "outputs": [
    {
     "data": {
      "text/latex": [
       "$\\displaystyle R r \\cos{\\left(\\alpha + \\beta \\right)}$"
      ],
      "text/plain": [
       "R*r*cos(alpha + beta)"
      ]
     },
     "execution_count": 52,
     "metadata": {},
     "output_type": "execute_result"
    }
   ],
   "source": [
    "(a*c - b*d).simplify()"
   ]
  },
  {
   "cell_type": "code",
   "execution_count": 53,
   "metadata": {},
   "outputs": [
    {
     "data": {
      "text/latex": [
       "$\\displaystyle R r \\sin{\\left(\\alpha + \\beta \\right)}$"
      ],
      "text/plain": [
       "R*r*sin(alpha + beta)"
      ]
     },
     "execution_count": 53,
     "metadata": {},
     "output_type": "execute_result"
    }
   ],
   "source": [
    "(b*c + a*d).simplify()"
   ]
  },
  {
   "attachments": {},
   "cell_type": "markdown",
   "metadata": {},
   "source": [
    "__Следствие__:\n",
    "$$\\Large z^n = R^n(\\cos n\\beta + i \\cdot \\sin n\\beta)$$\n",
    "\n",
    "__Задача__. Пусть $z = a + bi$. Найти матрицу отображения, соответствующую $z$.\n",
    "\n",
    "Напомним вид матрицы поворота вокруг $\\vec{0}$ на угол $\\beta$:"
   ]
  },
  {
   "cell_type": "code",
   "execution_count": 54,
   "metadata": {},
   "outputs": [],
   "source": [
    "rotate = sym.Matrix([[sym.cos(beta), -sym.sin(beta)],\n",
    "                     [sym.sin(beta), sym.cos(beta)]])"
   ]
  },
  {
   "attachments": {},
   "cell_type": "markdown",
   "metadata": {},
   "source": [
    "Если матрицу __`rotate`__ умножить на $r = |z|$, то ее действие будет эквивалентно умножению на комплексное число $z$: поворот на угол $\\beta = \\arg(z)$ и растяжение в $r$ раз. Таким образом, искомая матрица отображения: "
   ]
  },
  {
   "cell_type": "code",
   "execution_count": 55,
   "metadata": {},
   "outputs": [
    {
     "data": {
      "text/latex": [
       "$\\displaystyle \\left[\\begin{matrix}a & - b\\\\b & a\\end{matrix}\\right]$"
      ],
      "text/plain": [
       "Matrix([\n",
       "[a, -b],\n",
       "[b,  a]])"
      ]
     },
     "execution_count": 55,
     "metadata": {},
     "output_type": "execute_result"
    }
   ],
   "source": [
    "a, b = sym.symbols('a b')\n",
    "by_def = {r * sym.cos(beta): a, r * sym.sin(beta): b}\n",
    "(r * rotate).subs(by_def)"
   ]
  },
  {
   "attachments": {},
   "cell_type": "markdown",
   "metadata": {},
   "source": [
    "__Задача__. Найти $(\\sqrt{3} + i)^{24}$.\n",
    "\n",
    "$z = \\sqrt{3} + i,\\,|z| = 2,\\,\\arg(z) = \\frac{\\pi}{6}$:"
   ]
  },
  {
   "cell_type": "code",
   "execution_count": 56,
   "metadata": {},
   "outputs": [],
   "source": [
    "z = sym.sqrt(3) + I"
   ]
  },
  {
   "cell_type": "code",
   "execution_count": 57,
   "metadata": {},
   "outputs": [
    {
     "data": {
      "text/latex": [
       "$\\displaystyle 2$"
      ],
      "text/plain": [
       "2"
      ]
     },
     "execution_count": 57,
     "metadata": {},
     "output_type": "execute_result"
    }
   ],
   "source": [
    "sym.Abs(z)  # или built-in abs(z)"
   ]
  },
  {
   "cell_type": "code",
   "execution_count": 58,
   "metadata": {},
   "outputs": [
    {
     "data": {
      "text/latex": [
       "$\\displaystyle \\frac{\\pi}{6}$"
      ],
      "text/plain": [
       "pi/6"
      ]
     },
     "execution_count": 58,
     "metadata": {},
     "output_type": "execute_result"
    }
   ],
   "source": [
    "sym.arg(z)"
   ]
  },
  {
   "attachments": {},
   "cell_type": "markdown",
   "metadata": {},
   "source": [
    "Значит, у $(\\sqrt{3} + i)^{24}$ модуль равен $2^{24}$, а аргумент равен $24 \\cdot \\frac{\\pi}{6} = 4\\pi = 0$. Вывод: $(\\sqrt{3} + i)^{24} = 2^{24}$.\n",
    "\n",
    "Проверка:"
   ]
  },
  {
   "cell_type": "code",
   "execution_count": 59,
   "metadata": {},
   "outputs": [
    {
     "data": {
      "text/plain": [
       "{2: 24}"
      ]
     },
     "execution_count": 59,
     "metadata": {},
     "output_type": "execute_result"
    }
   ],
   "source": [
    "factorint((z**24).simplify())"
   ]
  },
  {
   "attachments": {},
   "cell_type": "markdown",
   "metadata": {},
   "source": [
    "__Задача__. Найти число, обратное к $(1 + i)$.\n",
    "\n",
    "$(a + bi)(1 + i) = 1\\\\\n",
    "a + ai + bi - b = 1\\\\\n",
    "\\begin{cases} a + b = 0\\\\\n",
    "a - b = 1 \\end{cases}\\\\\n",
    "2a = 1\\\\\n",
    "a = \\frac{1}{2},\\,b = -\\frac{1}{2}$\n",
    "\n",
    "Искомое число: $\\frac{1}{2} - \\frac{i}{2}$\n",
    "\n",
    "Проверка:"
   ]
  },
  {
   "cell_type": "code",
   "execution_count": 60,
   "metadata": {},
   "outputs": [
    {
     "data": {
      "text/plain": [
       "(0.5-0.5j)"
      ]
     },
     "execution_count": 60,
     "metadata": {},
     "output_type": "execute_result"
    }
   ],
   "source": [
    "(1 + 1j)**(-1)"
   ]
  },
  {
   "cell_type": "code",
   "execution_count": 61,
   "metadata": {},
   "outputs": [
    {
     "data": {
      "text/plain": [
       "(1/2, -1/2)"
      ]
     },
     "execution_count": 61,
     "metadata": {},
     "output_type": "execute_result"
    }
   ],
   "source": [
    "((1 + I)**(-1)).as_real_imag()"
   ]
  },
  {
   "attachments": {},
   "cell_type": "markdown",
   "metadata": {},
   "source": [
    "Модуль числа, обратного числу $z$, равен $\\frac{1}{|z|}$, а фаза $(-\\arg(z))$: "
   ]
  },
  {
   "cell_type": "code",
   "execution_count": 62,
   "metadata": {},
   "outputs": [],
   "source": [
    "def complexInv(z):\n",
    "    a = -sym.arg(z)\n",
    "    return (1/sym.Abs(z) * (sym.cos(a) + sym.sin(a) * I)).simplify()"
   ]
  },
  {
   "cell_type": "code",
   "execution_count": 63,
   "metadata": {},
   "outputs": [
    {
     "data": {
      "text/latex": [
       "$\\displaystyle \\frac{1}{2} - \\frac{i}{2}$"
      ],
      "text/plain": [
       "1/2 - I/2"
      ]
     },
     "execution_count": 63,
     "metadata": {},
     "output_type": "execute_result"
    }
   ],
   "source": [
    "complexInv(1 + I)"
   ]
  },
  {
   "attachments": {},
   "cell_type": "markdown",
   "metadata": {},
   "source": [
    "__Геометрический смысл__. Если у некоторого числа $z$ модуль $r = |z| > 1$ и фаза $\\varphi = \\arg(z) > 0$, то:\n",
    "* умножение на число $z$ __растягивает__ вектор в $r$ раз и поворачивает его на угол $\\varphi$ __против__ часовой стрелки;\n",
    "* умножение на число, сопряженное числу $z$ __`z.conjugate()`__, __растягивает__ вектор в $r$ раз и поворачивает его на угол $\\varphi$ __по__ часовой стрелке;\n",
    "* умножение на число, обратное числу $z$, __сжимает__ вектор в $r$ раз и поворачивает его на угол $\\varphi$ __по__ часовой стрелке.\n",
    "\n",
    "__Основная теорема алгебры__. Любой многочлен с комплексными коэффициентами имеет корень в $\\mathbb{C}$.\n",
    "<br>На математическом языке это свойство называют алгебраической замкнутостью $\\mathbb{C}$.\n",
    "\n",
    "__Следствие__. Любой многочлен степени $n$ с комплексными коэффициентами имеет ровно $n$ корней в $\\mathbb{C}$."
   ]
  }
 ],
 "metadata": {
  "kernelspec": {
   "display_name": "Python 3",
   "language": "python",
   "name": "python3"
  },
  "language_info": {
   "codemirror_mode": {
    "name": "ipython",
    "version": 3
   },
   "file_extension": ".py",
   "mimetype": "text/x-python",
   "name": "python",
   "nbconvert_exporter": "python",
   "pygments_lexer": "ipython3",
   "version": "3.11.1"
  },
  "orig_nbformat": 4,
  "vscode": {
   "interpreter": {
    "hash": "f8c96a75684fb026b06b21d33b3de0343e22c021cb4e229f492bb76a8bcf102e"
   }
  }
 },
 "nbformat": 4,
 "nbformat_minor": 2
}
